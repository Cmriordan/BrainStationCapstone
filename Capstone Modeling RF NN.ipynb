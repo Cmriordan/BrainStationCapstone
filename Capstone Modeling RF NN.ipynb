{
 "cells": [
  {
   "cell_type": "markdown",
   "id": "68079e41-2587-4d4a-a9ea-08de7473953e",
   "metadata": {},
   "source": [
    "# Models\n",
    "\n",
    "In this notebook we will first build a Random Forest Classification model before moving onto Neural Networks to see if we can correctly classify the different sounds in the UrbanSound8K dataset.\n",
    "\n",
    "There are 10 classes of sounds:\n",
    "1. air conditioner \n",
    "2. car horn \n",
    "3. children playing\n",
    "4. dog bark \n",
    "5. drilling\n",
    "6. engine idling\n",
    "7. gun shot\n",
    "8. jackhammer \n",
    "9. siren\n",
    "10. street_music"
   ]
  },
  {
   "cell_type": "code",
   "execution_count": 94,
   "id": "2bd6817a-9a71-48a4-9a21-7ac852452605",
   "metadata": {},
   "outputs": [],
   "source": [
    "#Necessary libraries for modeling \n",
    "import numpy as np\n",
    "import pandas as pd\n",
    "import matplotlib.pyplot as plt\n",
    "\n",
    "# Import tensorflow\n",
    "import tensorflow as tf\n",
    "from tensorflow import keras\n",
    "from tensorflow.keras import layers\n",
    "\n",
    "from sklearn.model_selection import cross_val_score\n",
    "\n",
    "import warnings\n",
    "warnings.filterwarnings('ignore')"
   ]
  },
  {
   "cell_type": "markdown",
   "id": "e3874607-11f8-42f6-8edc-a111d529e660",
   "metadata": {},
   "source": [
    "## Loading in Data\n",
    "\n",
    "The sets of data i am loading in are the Train and Test sets that I pre-processed and saved in the EDA notebook.\n",
    "- The `X`(features) consist of the 40 Mel-Frequency Cepstrum Coefficients.\n",
    "- The `y`(targets) consist of the 10 audio classes."
   ]
  },
  {
   "cell_type": "code",
   "execution_count": 83,
   "id": "908c9a02-1f02-49b2-8dd7-c5fdb029c5c9",
   "metadata": {},
   "outputs": [],
   "source": [
    "#Loading in each of the train and test sets\n",
    "X = np.load('X_audio.npy')\n",
    "y = np.load('y_audio.npy')"
   ]
  },
  {
   "cell_type": "code",
   "execution_count": 84,
   "id": "8aad42de-5c31-4913-a9b7-cb771690d831",
   "metadata": {},
   "outputs": [
    {
     "name": "stdout",
     "output_type": "stream",
     "text": [
      "The shape of the X set is: (8732, 40)\n",
      "The shape of the y set is: (8732, 10)\n"
     ]
    }
   ],
   "source": [
    "#printing out the shapes of the train and test sets\n",
    "print(f'The shape of the X set is: {X.shape}')\n",
    "print(f'The shape of the y set is: {y.shape}')"
   ]
  },
  {
   "cell_type": "markdown",
   "id": "82445886-336f-4178-a48c-5654915d1fcd",
   "metadata": {},
   "source": [
    "## Train, Test splits\n"
   ]
  },
  {
   "cell_type": "code",
   "execution_count": 95,
   "id": "f79780a3-b5af-4e8e-9b06-cccee36eb6fe",
   "metadata": {},
   "outputs": [],
   "source": [
    "#Making train, and test sets\n",
    "from sklearn.model_selection import train_test_split\n",
    "\n",
    "X_remainder, X_test, y_remainder, y_test = train_test_split(X, y, test_size=.20, random_state=133)"
   ]
  },
  {
   "cell_type": "code",
   "execution_count": 96,
   "id": "227d379e-bce0-495e-b189-70feb1c97493",
   "metadata": {},
   "outputs": [
    {
     "name": "stdout",
     "output_type": "stream",
     "text": [
      "The shape of the X_remainder set is: (6985, 40)\n",
      "The shape of the y_remainder set is: (6985, 10)\n",
      "The shape of the X_test set is: (1747, 40)\n",
      "The shape of the y_test set is: (1747, 10)\n"
     ]
    }
   ],
   "source": [
    "#printing out the shapes of the train and test sets\n",
    "print(f'The shape of the X_remainder set is: {X_remainder.shape}')\n",
    "print(f'The shape of the y_remainder set is: {y_remainder.shape}')\n",
    "print(f'The shape of the X_test set is: {X_test.shape}')\n",
    "print(f'The shape of the y_test set is: {y_test.shape}')"
   ]
  },
  {
   "cell_type": "markdown",
   "id": "dfc1b65b-3630-47f5-9765-55f7a3a65513",
   "metadata": {},
   "source": [
    "# Random Forest\n",
    "\n",
    "**what is a random forest?**\n",
    "\n",
    "A Random forest is a supervised classification learning algorithm. The \"forest\" it builds, is an ensemble of decision trees, usually trained with the 'bagging' method. The general idea of the bagging method is that a combination of learning models increases the overall result.\n",
    "\n",
    "Bagging is composed of two operations, bootstrapping and aggregation. Aggregation refers to combining many models, where each model sees a subset of the data, and finding a way to average out their conclusions. Bootstrapping is the way we show each model a subset of the data. To produce a bootstrapped sample from a dataset  𝑋 , we produce a new dataset of the same size  𝑋′ , but to create the new dataset we sample with replacement.\n",
    "\n"
   ]
  },
  {
   "cell_type": "code",
   "execution_count": 148,
   "id": "acb59394-9ba3-4ea3-9d42-b63c9aafe7cd",
   "metadata": {},
   "outputs": [
    {
     "name": "stdout",
     "output_type": "stream",
     "text": [
      "CPU times: user 2 µs, sys: 2 µs, total: 4 µs\n",
      "Wall time: 9.06 µs\n",
      "Fitting 10 folds for each of 49 candidates, totalling 490 fits\n"
     ]
    },
    {
     "data": {
      "text/plain": [
       "GridSearchCV(cv=10, estimator=RandomForestClassifier(), n_jobs=-1,\n",
       "             param_grid={'n_estimators': array([ 1,  2,  3,  4,  5,  6,  7,  8,  9, 10, 11, 12, 13, 14, 15, 16, 17,\n",
       "       18, 19, 20, 21, 22, 23, 24, 25, 26, 27, 28, 29, 30, 31, 32, 33, 34,\n",
       "       35, 36, 37, 38, 39, 40, 41, 42, 43, 44, 45, 46, 47, 48, 49])},\n",
       "             verbose=1)"
      ]
     },
     "execution_count": 148,
     "metadata": {},
     "output_type": "execute_result"
    }
   ],
   "source": [
    "#\n",
    "%time\n",
    "from sklearn.model_selection import GridSearchCV\n",
    "from sklearn.ensemble import RandomForestClassifier\n",
    "\n",
    "# Instantiate\n",
    "mygs = GridSearchCV(\n",
    "                    RandomForestClassifier(),\n",
    "                    param_grid={'n_estimators':np.arange(1, 50)},\n",
    "                    cv=10, n_jobs=-1, verbose=1\n",
    "                    )\n",
    "\n",
    "# Fit\n",
    "mygs.fit(X_remainder, y_remainder)"
   ]
  },
  {
   "cell_type": "code",
   "execution_count": 149,
   "id": "69c0b0f1-a45b-4229-925d-e4dad81f488d",
   "metadata": {},
   "outputs": [
    {
     "name": "stdout",
     "output_type": "stream",
     "text": [
      "The train accuracy is: 99.95705082319255\n",
      "The test accuracy is: 64.51058958214081\n"
     ]
    }
   ],
   "source": [
    "print(f'The train accuracy is: {mygs.score(X_remainder, y_remainder)*100}')\n",
    "print(f'The test accuracy is: {mygs.score(X_test, y_test)*100}')"
   ]
  },
  {
   "cell_type": "markdown",
   "id": "a027fb7f-863a-4984-aa46-1d2de59fea07",
   "metadata": {},
   "source": [
    "As we can see the Grid Search gave us a a train score of 99.9%, which is near perfect and a test score of 64.51%. This indicates extreme over fitting to the training data, and not being able to correctly classify unseen data. "
   ]
  },
  {
   "cell_type": "code",
   "execution_count": 150,
   "id": "bb39efd9-1e2d-4c7e-bf9c-8c3b3b842cd8",
   "metadata": {},
   "outputs": [
    {
     "name": "stdout",
     "output_type": "stream",
     "text": [
      "The best estimator in the grid search is: RandomForestClassifier(n_estimators=49)\n"
     ]
    }
   ],
   "source": [
    "#lets see what the best estimator is\n",
    "print(f'The best estimator in the grid search is: {mygs.best_estimator_}')"
   ]
  },
  {
   "cell_type": "code",
   "execution_count": 264,
   "id": "0cc4712d-2ff2-4c10-8720-bf92ecf2e40c",
   "metadata": {},
   "outputs": [
    {
     "data": {
      "text/plain": [
       "Text(0.5, 0, 'Trees')"
      ]
     },
     "execution_count": 264,
     "metadata": {},
     "output_type": "execute_result"
    },
    {
     "data": {
      "image/png": "[encoded data removed]",
      "text/plain": [
       "<Figure size 432x288 with 1 Axes>"
      ]
     },
     "metadata": {
      "needs_background": "light"
     },
     "output_type": "display_data"
    }
   ],
   "source": [
    "#plotting the mean cross validation scores \n",
    "plt.plot(mygs.cv_results_['mean_test_score'])\n",
    "plt.title('Average Accuracy Score For Each Tree', size=18)\n",
    "plt.ylabel('Accuracy', size=14)\n",
    "plt.xlabel('Trees', size=14)"
   ]
  },
  {
   "cell_type": "code",
   "execution_count": 183,
   "id": "c5a2ee3f-9a4e-4b2c-8a92-63c7dab6bb7c",
   "metadata": {},
   "outputs": [
    {
     "name": "stdout",
     "output_type": "stream",
     "text": [
      "The Random Forest mean accuracy score is: 0.61\n"
     ]
    }
   ],
   "source": [
    "print(f\"The Random Forest mean accuracy score is: {round(mygs.cv_results_['mean_test_score'].mean(), 2)}\")"
   ]
  },
  {
   "cell_type": "markdown",
   "id": "78d131bf-d3a7-4c23-886e-9159bbb6ca09",
   "metadata": {},
   "source": [
    "The best Random Forest from the above grid search had 49 trees. It had a mean validation score of ~61%."
   ]
  },
  {
   "cell_type": "markdown",
   "id": "380217b5-acb0-4ada-ba3c-6c7c83473ad3",
   "metadata": {},
   "source": [
    "### Predictions and Evaluation"
   ]
  },
  {
   "cell_type": "code",
   "execution_count": 185,
   "id": "16ac87fb-907b-4cf4-839e-dcb53b0c699d",
   "metadata": {},
   "outputs": [
    {
     "data": {
      "text/plain": [
       "0.6451058958214081"
      ]
     },
     "execution_count": 185,
     "metadata": {},
     "output_type": "execute_result"
    }
   ],
   "source": [
    "from sklearn.metrics import accuracy_score, classification_report\n",
    "\n",
    "# Make predictions for the test set\n",
    "y_pred_test = mygs.predict(X_test)\n",
    "# View accuracy score\n",
    "accuracy_score(y_test, y_pred_test)"
   ]
  },
  {
   "cell_type": "code",
   "execution_count": 163,
   "id": "744e26fd-a5da-4c90-948b-4c9c88371585",
   "metadata": {},
   "outputs": [],
   "source": [
    "#getting the predictions\n",
    "forest_test_pred = mygs.predict(X_test).round()\n",
    "forest_train_pred = mygs.predict(X_remainder).round()\n",
    "\n",
    "y_forest_test = (forest_test_pred > 0.5).astype(int)\n",
    "y_forest_train = (forest_train_pred > 0.5).astype(int)"
   ]
  },
  {
   "cell_type": "code",
   "execution_count": 164,
   "id": "bac882fc-d1b5-489c-8c6b-f6cd07f885fb",
   "metadata": {},
   "outputs": [
    {
     "name": "stdout",
     "output_type": "stream",
     "text": [
      "Classification Report Random Forest: \n",
      "=======================================================\n",
      "\n",
      "              precision    recall  f1-score   support\n",
      "\n",
      "           0       0.99      0.84      0.91       194\n",
      "           1       0.98      0.54      0.70        79\n",
      "           2       0.95      0.44      0.61       189\n",
      "           3       0.92      0.54      0.68       203\n",
      "           4       0.98      0.68      0.80       234\n",
      "           5       1.00      0.85      0.92       199\n",
      "           6       1.00      0.52      0.68        56\n",
      "           7       0.95      0.85      0.90       183\n",
      "           8       0.99      0.77      0.87       191\n",
      "           9       1.00      0.30      0.46       219\n",
      "\n",
      "   micro avg       0.98      0.65      0.78      1747\n",
      "   macro avg       0.98      0.63      0.75      1747\n",
      "weighted avg       0.98      0.65      0.76      1747\n",
      " samples avg       0.65      0.65      0.65      1747\n",
      "\n"
     ]
    }
   ],
   "source": [
    "from sklearn.metrics import classification_report\n",
    "\n",
    "print_line = \"\\n=======================================================\\n\"\n",
    "\n",
    "# Confusion matrices\n",
    "print(\"Classification Report Random Forest:\", print_line)\n",
    "\n",
    "report_initial = classification_report(y_test, y_forest_test)\n",
    "print(report_initial)"
   ]
  },
  {
   "cell_type": "markdown",
   "id": "6ffa04ae-1a4d-472d-8ed4-e868e4ba5a16",
   "metadata": {},
   "source": [
    "The Random Forest did not do very well as correctly identifying true positives, true negatives, false positives or false negatives. \n",
    "\n",
    "**Precision:** The fraction of positive predictions that are correct. This score tells us if we have false positives or not and the score ranges from 0 to 1. 1 being a perfect fit.\n",
    "- The precision averaged around 98%. That means that only 98% of the guesses were correctly predicted a positive match, and 2% were false positives.\n",
    "\n",
    "**Recall:** The fraction of positive cases which were predicted as positive. This score tells us how much positive/correct guesses were actually predicted as positive. Optimizing this limits False Negative errors. Like precision, the score ranges from 0 to 1. 1 being a perfect fit.\n",
    "- The average score is 65%, that means that only 65% of the positive/correct guesses were predicted as positive/correct, and 35% were predicted as False Negatives.\n",
    "\n",
    "**f1-Score:** The harmonic mean of the precision and recall. An F1 score reaches its best value at 1 which corresponds to both perfect precision and perfect recall.\n",
    "- The `F1` score averages in the 70% range. Meaning our model decent at predicting false positives, or true positives."
   ]
  },
  {
   "cell_type": "markdown",
   "id": "a4c5f170-0e83-44ae-823e-03fac4a78fc6",
   "metadata": {},
   "source": [
    "**Confusion Matrix**"
   ]
  },
  {
   "cell_type": "markdown",
   "id": "166d638b-0890-45ee-b215-1e5f9a51f684",
   "metadata": {},
   "source": [
    "The confusion matrix tells us how many of a classifier’s predictions were correct, and when incorrect, where the classifier got confused. It's a great function to visualize the True Positives and False Positives. \n",
    "\n",
    "The confusion matrix got very confused for me and tried to make a multi-label classification. This is not yet supported for a confusion matrix. Unfortunately because of this you will not be able to see one for any of my models.\n",
    "\n",
    "Next steps will be to figure out and make a confusion matrix as a multi-class classification."
   ]
  },
  {
   "cell_type": "markdown",
   "id": "0471532a-9818-4f97-aa17-08084b3c3965",
   "metadata": {},
   "source": [
    "**AUC-ROC**\n",
    "\n",
    "A ROC curve is constructed by plotting the true positive rate (TPR) against the false positive rate (FPR).\n",
    "\n",
    "**TP:** - The true positive rate is the proportion of observations that were correctly predicted to be positive out of all positive observations (TP/(TP + FN)).\n",
    "\n",
    "**FP:** - The false positive rate is the proportion of observations that are incorrectly predicted to be positive out of all negative observations (FP/(TN + FP)).\n",
    "\n",
    "AUC (Area Under the Curve) is usually correlated with accuracy. Accuracy is measuring the fraction of points our model gets correct for a fixed threshold. AUC is the probability that when our model is given two random points, one from the positive class and one from the negative class, our model is more confident that the positive point belongs to the positive class than the negative point belonging to the positive class."
   ]
  },
  {
   "cell_type": "code",
   "execution_count": 252,
   "id": "5760dd17-1c4e-4d9e-99e5-d5fdb89ad910",
   "metadata": {},
   "outputs": [
    {
     "name": "stdout",
     "output_type": "stream",
     "text": [
      "AUC-ROC Scores NN Model 1: \n",
      "=======================================================\n",
      "\n",
      "AUC on train set: 0.5299577754488636\n",
      "AUC on test set: 0.8215460046506295\n"
     ]
    }
   ],
   "source": [
    "from sklearn.metrics import roc_auc_score\n",
    "from sklearn.metrics import roc_curve\n",
    "\n",
    "#getting the predictions\n",
    "mygs_test_pred = mygs.predict(X_test).round()\n",
    "mygs_train_pred = nn_model1.predict(X_remainder).round()\n",
    "\n",
    "y_mygs_test = (mygs_test_pred > 0.5).astype(int)\n",
    "y_mygs_train = (mygs_train_pred > 0.5).astype(int)\n",
    "\n",
    "print_line = \"\\n=======================================================\\n\"\n",
    "\n",
    "print(\"AUC-ROC Scores NN Model 1:\", print_line)\n",
    "\n",
    "# Score (AUC)\n",
    "multi_test_forest = roc_auc_score(y_test, y_mygs_test, multi_class='ovo', average='weighted')\n",
    "multi_train_forest = roc_auc_score(y_remainder, y_mygs_train, multi_class='ovo', average='weighted')\n",
    "print(f'AUC on train set: {multi_train_forest}')\n",
    "print(f'AUC on test set: {multi_test_forest}')"
   ]
  },
  {
   "cell_type": "markdown",
   "id": "167b1609-ed17-46bb-b731-59848805a168",
   "metadata": {},
   "source": [
    "This model achieved a test accuracy of 61%, a average f1 score in the 70's, and an AUC of 0.821.\n",
    "\n",
    "I wasn't able to figure out how to display a multiclass classification AUC-ROC curve. I found a resource here [link](https://inblog.in/AUC-ROC-score-and-curve-in-multiclass-classification-problems-2ja4jOHb2X). For next steps I will try and plot the ROC-AUC score for each class. The following models will also not have a graph to display AUC-ROC scores."
   ]
  },
  {
   "cell_type": "markdown",
   "id": "3b94c009-69a2-4502-9fa6-bfd6dcd70f44",
   "metadata": {},
   "source": [
    "### Conclusion\n",
    "The Random Forest Classifier was not the best model to use for audio classification. This model had some serious overfitting going on. "
   ]
  },
  {
   "cell_type": "markdown",
   "id": "23b2b4e0-3232-47f1-ae00-f18fab6a5fe2",
   "metadata": {},
   "source": [
    "# Neural Networks\n",
    "\n",
    "**What is a Neural Network?**\n",
    "\n",
    "The idea behind Neural Networks (NN) is to act like the densely interconnected brain cells that us humans have. We intake information, recognize patterns and make decisions accordingly. A Neural Network works the same way: It simulates connected layers of 'neurons' by using a series of algorithms that works to mimic the way a human brain operates. Just how we can recognize patterns, and underlying relationships between pieces of information we take it. For example, when we hear a voice we can tell by the inflections if it is angry, happy, or accusatory etc.\n",
    "\n",
    "**What makes up a NN?**\n",
    "\n",
    "As with our brain cells, a NN is divided into many layers, sometimes hundreds, but they can be grouped into 3 categories.\n",
    "1. **Input Layer:** This layer represents the underlying features of our independent variable. If our data has  𝑑  features we will have  𝑑  input units.\n",
    "2. **Hidden Layer:** The hidden layer(s) transform the input features into a format that is useful for classifying the data. The more hidden layers, and the more units in each layer, the more powerful the overall model is. State of the art networks for complex tasks like image recognition and autonomous driving, have dozens hidden layers (or even hundreds).\n",
    "3. **Output Layer:** This layer represents the output choice of the model. For classification tasks we have one unit per class, each neuron represents a possible class.\n",
    "\n",
    "As I have a 10 classification problem with 40 features. The input layer will be (40,), the 40 MFCC's from each audio sample. The output layer will be (,10), the 10 classes of sounds.\n",
    "\n",
    "The process of building a NN model is as follows:\n",
    "\n",
    "1. **Build the model:** Declare the structure of the network — primarily the types and sizes of the hidden layers.\n",
    "2. **Compile the model:** Customize some of the settings that will be used for training.\n",
    "3. **Train** the model\n",
    "4. **Evaluate** the model and generate predictions"
   ]
  },
  {
   "cell_type": "markdown",
   "id": "7d39a7de-8aaf-4076-9ff7-925bcb22e723",
   "metadata": {},
   "source": [
    "## NN Model 1\n",
    "\n",
    "I am going to build a simple NN to start with. I want to get base results and then built on it in other models. I have declared the input layer as the shape of the features, which is (40,). before instantiating and building a sequential NN. I specified the outer layer as number of classes."
   ]
  },
  {
   "cell_type": "code",
   "execution_count": 97,
   "id": "0c1aaf4a-854e-408b-9a06-989a7a4044bc",
   "metadata": {},
   "outputs": [],
   "source": [
    "from sklearn.preprocessing import StandardScaler\n",
    "\n",
    "# Define and fit the scaler\n",
    "scaler = StandardScaler().fit(X_remainder)\n",
    "\n",
    "# Transform the train and test data\n",
    "X_remainder_ss = scaler.transform(X_remainder)\n",
    "X_test_ss = scaler.transform(X_test)"
   ]
  },
  {
   "cell_type": "markdown",
   "id": "1f371c58-f1e5-4c8c-bb42-c0a887c94115",
   "metadata": {},
   "source": [
    "Why should we bother scaling the data? Well - due to the features having different scales, they can influence a model by different magnitudes. In order to address this, we can employ two strategies:\n",
    "\n",
    "**Standardizaton**\n",
    "\n",
    "the mean of the data is centred at zero with the scale as units of standard deviation from that mean.\n",
    "Examples: StandardScaler() and RobustScaler()\n",
    "\n",
    "**Normalization**\n",
    "\n",
    "the data is rescaled to a range from 0 to 1.\n",
    "Example: MinMaxScaler()\n",
    "\n",
    "I have used the `Standardscaler` to help with normalizing the data."
   ]
  },
  {
   "cell_type": "code",
   "execution_count": 227,
   "id": "1258b17a-910c-442d-bdbf-0ec174eef703",
   "metadata": {
    "scrolled": true,
    "tags": []
   },
   "outputs": [
    {
     "name": "stdout",
     "output_type": "stream",
     "text": [
      "Epoch 1/100\n",
      "175/175 [==============================] - 1s 4ms/step - loss: 1.3930 - categorical_accuracy: 0.5345 - val_loss: 0.9318 - val_categorical_accuracy: 0.6936\n",
      "Epoch 2/100\n",
      "175/175 [==============================] - 1s 4ms/step - loss: 0.7826 - categorical_accuracy: 0.7434 - val_loss: 0.7890 - val_categorical_accuracy: 0.7380\n",
      "Epoch 3/100\n",
      "175/175 [==============================] - 1s 5ms/step - loss: 0.5409 - categorical_accuracy: 0.8205 - val_loss: 0.5934 - val_categorical_accuracy: 0.8053\n",
      "Epoch 4/100\n",
      "175/175 [==============================] - 1s 4ms/step - loss: 0.4090 - categorical_accuracy: 0.8631 - val_loss: 0.5033 - val_categorical_accuracy: 0.8375\n",
      "Epoch 5/100\n",
      "175/175 [==============================] - 1s 4ms/step - loss: 0.3045 - categorical_accuracy: 0.8948 - val_loss: 0.4937 - val_categorical_accuracy: 0.8454\n",
      "Epoch 6/100\n",
      "175/175 [==============================] - 1s 4ms/step - loss: 0.2335 - categorical_accuracy: 0.9239 - val_loss: 0.4554 - val_categorical_accuracy: 0.8533\n",
      "Epoch 7/100\n",
      "175/175 [==============================] - 1s 3ms/step - loss: 0.1685 - categorical_accuracy: 0.9465 - val_loss: 0.4876 - val_categorical_accuracy: 0.8490\n",
      "Epoch 8/100\n",
      "175/175 [==============================] - 1s 4ms/step - loss: 0.1287 - categorical_accuracy: 0.9590 - val_loss: 0.5050 - val_categorical_accuracy: 0.8576\n",
      "Epoch 9/100\n",
      "175/175 [==============================] - 1s 4ms/step - loss: 0.1129 - categorical_accuracy: 0.9655 - val_loss: 0.5518 - val_categorical_accuracy: 0.8482\n",
      "Epoch 10/100\n",
      "175/175 [==============================] - 1s 4ms/step - loss: 0.0990 - categorical_accuracy: 0.9685 - val_loss: 0.4897 - val_categorical_accuracy: 0.8676\n",
      "Epoch 11/100\n",
      "175/175 [==============================] - 1s 4ms/step - loss: 0.0591 - categorical_accuracy: 0.9851 - val_loss: 0.4623 - val_categorical_accuracy: 0.8840\n",
      "Epoch 12/100\n",
      "175/175 [==============================] - 1s 4ms/step - loss: 0.0528 - categorical_accuracy: 0.9837 - val_loss: 0.5060 - val_categorical_accuracy: 0.8769\n",
      "Epoch 13/100\n",
      "175/175 [==============================] - 1s 4ms/step - loss: 0.0924 - categorical_accuracy: 0.9683 - val_loss: 0.4968 - val_categorical_accuracy: 0.8826\n",
      "Epoch 14/100\n",
      "175/175 [==============================] - 1s 4ms/step - loss: 0.0725 - categorical_accuracy: 0.9775 - val_loss: 0.6162 - val_categorical_accuracy: 0.8590\n",
      "Epoch 15/100\n",
      "175/175 [==============================] - 1s 5ms/step - loss: 0.0540 - categorical_accuracy: 0.9805 - val_loss: 0.5339 - val_categorical_accuracy: 0.8640\n",
      "Epoch 16/100\n",
      "175/175 [==============================] - 1s 4ms/step - loss: 0.0236 - categorical_accuracy: 0.9948 - val_loss: 0.4706 - val_categorical_accuracy: 0.8926\n",
      "Epoch 17/100\n",
      "175/175 [==============================] - 1s 4ms/step - loss: 0.0100 - categorical_accuracy: 0.9979 - val_loss: 0.4688 - val_categorical_accuracy: 0.8962\n",
      "Epoch 18/100\n",
      "175/175 [==============================] - 1s 4ms/step - loss: 0.0100 - categorical_accuracy: 0.9971 - val_loss: 0.4999 - val_categorical_accuracy: 0.8912\n",
      "Epoch 19/100\n",
      "175/175 [==============================] - 1s 5ms/step - loss: 0.0094 - categorical_accuracy: 0.9979 - val_loss: 0.5132 - val_categorical_accuracy: 0.8984\n",
      "Epoch 20/100\n",
      "175/175 [==============================] - 1s 4ms/step - loss: 0.0069 - categorical_accuracy: 0.9979 - val_loss: 0.5144 - val_categorical_accuracy: 0.8941\n",
      "Epoch 21/100\n",
      "175/175 [==============================] - 1s 4ms/step - loss: 0.0080 - categorical_accuracy: 0.9975 - val_loss: 0.5306 - val_categorical_accuracy: 0.8969\n",
      "Epoch 22/100\n",
      "175/175 [==============================] - 1s 4ms/step - loss: 0.0082 - categorical_accuracy: 0.9975 - val_loss: 0.5630 - val_categorical_accuracy: 0.8948\n",
      "Epoch 23/100\n",
      "175/175 [==============================] - 1s 4ms/step - loss: 0.1784 - categorical_accuracy: 0.9476 - val_loss: 0.5600 - val_categorical_accuracy: 0.8482\n",
      "Epoch 24/100\n",
      "175/175 [==============================] - 1s 5ms/step - loss: 0.0734 - categorical_accuracy: 0.9771 - val_loss: 0.5763 - val_categorical_accuracy: 0.8647\n",
      "Epoch 25/100\n",
      "175/175 [==============================] - 1s 4ms/step - loss: 0.0226 - categorical_accuracy: 0.9946 - val_loss: 0.5293 - val_categorical_accuracy: 0.8826\n",
      "Epoch 26/100\n",
      "175/175 [==============================] - 1s 4ms/step - loss: 0.0150 - categorical_accuracy: 0.9962 - val_loss: 0.5365 - val_categorical_accuracy: 0.8948\n",
      "Epoch 27/100\n",
      "175/175 [==============================] - 1s 4ms/step - loss: 0.0080 - categorical_accuracy: 0.9982 - val_loss: 0.5836 - val_categorical_accuracy: 0.8855\n",
      "Epoch 28/100\n",
      "175/175 [==============================] - 1s 4ms/step - loss: 0.0090 - categorical_accuracy: 0.9977 - val_loss: 0.5344 - val_categorical_accuracy: 0.8948\n",
      "Epoch 29/100\n",
      "175/175 [==============================] - 1s 4ms/step - loss: 0.0050 - categorical_accuracy: 0.9982 - val_loss: 0.5528 - val_categorical_accuracy: 0.8933\n",
      "Epoch 30/100\n",
      "175/175 [==============================] - 1s 4ms/step - loss: 0.0051 - categorical_accuracy: 0.9982 - val_loss: 0.5611 - val_categorical_accuracy: 0.8912\n",
      "Epoch 31/100\n",
      "175/175 [==============================] - 1s 4ms/step - loss: 0.0064 - categorical_accuracy: 0.9973 - val_loss: 0.5836 - val_categorical_accuracy: 0.8883\n",
      "Epoch 32/100\n",
      "175/175 [==============================] - 1s 4ms/step - loss: 0.0063 - categorical_accuracy: 0.9979 - val_loss: 0.5721 - val_categorical_accuracy: 0.8855\n",
      "Epoch 33/100\n",
      "175/175 [==============================] - 1s 4ms/step - loss: 0.0722 - categorical_accuracy: 0.9794 - val_loss: 0.8877 - val_categorical_accuracy: 0.8103\n",
      "Epoch 34/100\n",
      "175/175 [==============================] - 1s 4ms/step - loss: 0.1511 - categorical_accuracy: 0.9531 - val_loss: 0.5330 - val_categorical_accuracy: 0.8762\n",
      "Epoch 35/100\n",
      "175/175 [==============================] - 1s 4ms/step - loss: 0.0559 - categorical_accuracy: 0.9819 - val_loss: 0.5303 - val_categorical_accuracy: 0.8726\n",
      "Epoch 36/100\n",
      "175/175 [==============================] - 1s 4ms/step - loss: 0.0270 - categorical_accuracy: 0.9927 - val_loss: 0.5385 - val_categorical_accuracy: 0.8855\n",
      "Epoch 37/100\n",
      "175/175 [==============================] - 1s 4ms/step - loss: 0.0120 - categorical_accuracy: 0.9962 - val_loss: 0.5180 - val_categorical_accuracy: 0.8933\n",
      "Epoch 38/100\n",
      "175/175 [==============================] - 1s 4ms/step - loss: 0.0103 - categorical_accuracy: 0.9968 - val_loss: 0.5654 - val_categorical_accuracy: 0.8790\n",
      "Epoch 39/100\n",
      "175/175 [==============================] - 1s 4ms/step - loss: 0.0050 - categorical_accuracy: 0.9975 - val_loss: 0.5382 - val_categorical_accuracy: 0.8948\n",
      "Epoch 40/100\n",
      "175/175 [==============================] - 1s 4ms/step - loss: 0.0050 - categorical_accuracy: 0.9980 - val_loss: 0.5361 - val_categorical_accuracy: 0.8976\n",
      "Epoch 41/100\n",
      "175/175 [==============================] - 1s 5ms/step - loss: 0.0041 - categorical_accuracy: 0.9982 - val_loss: 0.5490 - val_categorical_accuracy: 0.8955\n",
      "Epoch 42/100\n",
      "175/175 [==============================] - 1s 4ms/step - loss: 0.0039 - categorical_accuracy: 0.9984 - val_loss: 0.5450 - val_categorical_accuracy: 0.8991\n",
      "Epoch 43/100\n",
      "175/175 [==============================] - 1s 4ms/step - loss: 0.0041 - categorical_accuracy: 0.9982 - val_loss: 0.5683 - val_categorical_accuracy: 0.8919\n",
      "Epoch 44/100\n",
      "175/175 [==============================] - 1s 3ms/step - loss: 0.0038 - categorical_accuracy: 0.9982 - val_loss: 0.5785 - val_categorical_accuracy: 0.8984\n",
      "Epoch 45/100\n",
      "175/175 [==============================] - 1s 3ms/step - loss: 0.0041 - categorical_accuracy: 0.9980 - val_loss: 0.5684 - val_categorical_accuracy: 0.8969\n",
      "Epoch 46/100\n",
      "175/175 [==============================] - 1s 4ms/step - loss: 0.0038 - categorical_accuracy: 0.9980 - val_loss: 0.6036 - val_categorical_accuracy: 0.8876\n",
      "Epoch 47/100\n",
      "175/175 [==============================] - 1s 3ms/step - loss: 0.0359 - categorical_accuracy: 0.9911 - val_loss: 0.9324 - val_categorical_accuracy: 0.8196\n",
      "Epoch 48/100\n",
      "175/175 [==============================] - 1s 3ms/step - loss: 0.1528 - categorical_accuracy: 0.9524 - val_loss: 0.5380 - val_categorical_accuracy: 0.8805\n",
      "Epoch 49/100\n",
      "175/175 [==============================] - 1s 5ms/step - loss: 0.0461 - categorical_accuracy: 0.9846 - val_loss: 0.5664 - val_categorical_accuracy: 0.8840\n",
      "Epoch 50/100\n",
      "175/175 [==============================] - 1s 4ms/step - loss: 0.0262 - categorical_accuracy: 0.9902 - val_loss: 0.6258 - val_categorical_accuracy: 0.8783\n",
      "Epoch 51/100\n",
      "175/175 [==============================] - 1s 5ms/step - loss: 0.0462 - categorical_accuracy: 0.9855 - val_loss: 0.6390 - val_categorical_accuracy: 0.8604\n",
      "Epoch 52/100\n",
      "175/175 [==============================] - 1s 4ms/step - loss: 0.0311 - categorical_accuracy: 0.9900 - val_loss: 0.5780 - val_categorical_accuracy: 0.8855\n",
      "Epoch 53/100\n",
      "175/175 [==============================] - 1s 4ms/step - loss: 0.0300 - categorical_accuracy: 0.9923 - val_loss: 0.5657 - val_categorical_accuracy: 0.8926\n",
      "Epoch 54/100\n",
      "175/175 [==============================] - 1s 5ms/step - loss: 0.0235 - categorical_accuracy: 0.9934 - val_loss: 0.5544 - val_categorical_accuracy: 0.8862\n",
      "Epoch 55/100\n",
      "175/175 [==============================] - 1s 4ms/step - loss: 0.0064 - categorical_accuracy: 0.9982 - val_loss: 0.5800 - val_categorical_accuracy: 0.8998\n",
      "Epoch 56/100\n",
      "175/175 [==============================] - 1s 4ms/step - loss: 0.0047 - categorical_accuracy: 0.9982 - val_loss: 0.5702 - val_categorical_accuracy: 0.8976\n",
      "Epoch 57/100\n",
      "175/175 [==============================] - 1s 4ms/step - loss: 0.0038 - categorical_accuracy: 0.9984 - val_loss: 0.5831 - val_categorical_accuracy: 0.8933\n",
      "Epoch 58/100\n",
      "175/175 [==============================] - 1s 4ms/step - loss: 0.0043 - categorical_accuracy: 0.9977 - val_loss: 0.5711 - val_categorical_accuracy: 0.8962\n",
      "Epoch 59/100\n",
      "175/175 [==============================] - 1s 4ms/step - loss: 0.0029 - categorical_accuracy: 0.9986 - val_loss: 0.5864 - val_categorical_accuracy: 0.8969\n",
      "Epoch 60/100\n",
      "175/175 [==============================] - 1s 4ms/step - loss: 0.0035 - categorical_accuracy: 0.9986 - val_loss: 0.5864 - val_categorical_accuracy: 0.8991\n",
      "Epoch 61/100\n",
      "175/175 [==============================] - 1s 4ms/step - loss: 0.0050 - categorical_accuracy: 0.9977 - val_loss: 0.5807 - val_categorical_accuracy: 0.9005\n",
      "Epoch 62/100\n",
      "175/175 [==============================] - 1s 4ms/step - loss: 0.0030 - categorical_accuracy: 0.9982 - val_loss: 0.5986 - val_categorical_accuracy: 0.8976\n",
      "Epoch 63/100\n",
      "175/175 [==============================] - 1s 5ms/step - loss: 0.0035 - categorical_accuracy: 0.9979 - val_loss: 0.6266 - val_categorical_accuracy: 0.8969\n",
      "Epoch 64/100\n",
      "175/175 [==============================] - 1s 4ms/step - loss: 0.0040 - categorical_accuracy: 0.9980 - val_loss: 0.6284 - val_categorical_accuracy: 0.8962\n",
      "Epoch 65/100\n",
      "175/175 [==============================] - 1s 4ms/step - loss: 0.0035 - categorical_accuracy: 0.9982 - val_loss: 0.6302 - val_categorical_accuracy: 0.8984\n",
      "Epoch 66/100\n",
      "175/175 [==============================] - 1s 4ms/step - loss: 0.0032 - categorical_accuracy: 0.9982 - val_loss: 0.6341 - val_categorical_accuracy: 0.8984\n",
      "Epoch 67/100\n",
      "175/175 [==============================] - 1s 5ms/step - loss: 0.0047 - categorical_accuracy: 0.9977 - val_loss: 0.6393 - val_categorical_accuracy: 0.8984\n",
      "Epoch 68/100\n",
      "175/175 [==============================] - 1s 5ms/step - loss: 0.1443 - categorical_accuracy: 0.9649 - val_loss: 0.5804 - val_categorical_accuracy: 0.8389\n",
      "Epoch 69/100\n",
      "175/175 [==============================] - 1s 4ms/step - loss: 0.0924 - categorical_accuracy: 0.9730 - val_loss: 0.5459 - val_categorical_accuracy: 0.8790\n",
      "Epoch 70/100\n",
      "175/175 [==============================] - 1s 4ms/step - loss: 0.0302 - categorical_accuracy: 0.9894 - val_loss: 0.5328 - val_categorical_accuracy: 0.8969\n",
      "Epoch 71/100\n",
      "175/175 [==============================] - 1s 4ms/step - loss: 0.0140 - categorical_accuracy: 0.9952 - val_loss: 0.5331 - val_categorical_accuracy: 0.9055\n",
      "Epoch 72/100\n",
      "175/175 [==============================] - 1s 4ms/step - loss: 0.0052 - categorical_accuracy: 0.9980 - val_loss: 0.5283 - val_categorical_accuracy: 0.9012\n",
      "Epoch 73/100\n",
      "175/175 [==============================] - 1s 4ms/step - loss: 0.0050 - categorical_accuracy: 0.9975 - val_loss: 0.5405 - val_categorical_accuracy: 0.9062\n",
      "Epoch 74/100\n",
      "175/175 [==============================] - 1s 5ms/step - loss: 0.0030 - categorical_accuracy: 0.9984 - val_loss: 0.5561 - val_categorical_accuracy: 0.9084\n",
      "Epoch 75/100\n",
      "175/175 [==============================] - 1s 4ms/step - loss: 0.0029 - categorical_accuracy: 0.9987 - val_loss: 0.5584 - val_categorical_accuracy: 0.9120\n",
      "Epoch 76/100\n",
      "175/175 [==============================] - 1s 4ms/step - loss: 0.0028 - categorical_accuracy: 0.9984 - val_loss: 0.5586 - val_categorical_accuracy: 0.9127\n",
      "Epoch 77/100\n",
      "175/175 [==============================] - 1s 4ms/step - loss: 0.0030 - categorical_accuracy: 0.9982 - val_loss: 0.5721 - val_categorical_accuracy: 0.9105\n",
      "Epoch 78/100\n",
      "175/175 [==============================] - 1s 4ms/step - loss: 0.0027 - categorical_accuracy: 0.9984 - val_loss: 0.5873 - val_categorical_accuracy: 0.9112\n",
      "Epoch 79/100\n",
      "175/175 [==============================] - 1s 4ms/step - loss: 0.0036 - categorical_accuracy: 0.9979 - val_loss: 0.5891 - val_categorical_accuracy: 0.9112\n",
      "Epoch 80/100\n",
      "175/175 [==============================] - 1s 4ms/step - loss: 0.0035 - categorical_accuracy: 0.9982 - val_loss: 0.6057 - val_categorical_accuracy: 0.9062\n",
      "Epoch 81/100\n",
      "175/175 [==============================] - 1s 4ms/step - loss: 0.0033 - categorical_accuracy: 0.9980 - val_loss: 0.6026 - val_categorical_accuracy: 0.9091\n",
      "Epoch 82/100\n",
      "175/175 [==============================] - 1s 4ms/step - loss: 0.0028 - categorical_accuracy: 0.9982 - val_loss: 0.6011 - val_categorical_accuracy: 0.9077\n",
      "Epoch 83/100\n",
      "175/175 [==============================] - 1s 4ms/step - loss: 0.0025 - categorical_accuracy: 0.9986 - val_loss: 0.6227 - val_categorical_accuracy: 0.9105\n",
      "Epoch 84/100\n",
      "175/175 [==============================] - 1s 4ms/step - loss: 0.0027 - categorical_accuracy: 0.9984 - val_loss: 0.6305 - val_categorical_accuracy: 0.9077\n",
      "Epoch 85/100\n",
      "175/175 [==============================] - 1s 4ms/step - loss: 0.0030 - categorical_accuracy: 0.9984 - val_loss: 0.6433 - val_categorical_accuracy: 0.9098\n",
      "Epoch 86/100\n",
      "175/175 [==============================] - 1s 4ms/step - loss: 0.0031 - categorical_accuracy: 0.9980 - val_loss: 0.6313 - val_categorical_accuracy: 0.9069\n",
      "Epoch 87/100\n",
      "175/175 [==============================] - 1s 4ms/step - loss: 0.0032 - categorical_accuracy: 0.9982 - val_loss: 0.6476 - val_categorical_accuracy: 0.9084\n",
      "Epoch 88/100\n",
      "175/175 [==============================] - 1s 4ms/step - loss: 0.1721 - categorical_accuracy: 0.9495 - val_loss: 0.6597 - val_categorical_accuracy: 0.8540\n",
      "Epoch 89/100\n",
      "175/175 [==============================] - 1s 4ms/step - loss: 0.0567 - categorical_accuracy: 0.9819 - val_loss: 0.6283 - val_categorical_accuracy: 0.8769\n",
      "Epoch 90/100\n",
      "175/175 [==============================] - 1s 4ms/step - loss: 0.0158 - categorical_accuracy: 0.9952 - val_loss: 0.6568 - val_categorical_accuracy: 0.8826\n",
      "Epoch 91/100\n",
      "175/175 [==============================] - 1s 4ms/step - loss: 0.0041 - categorical_accuracy: 0.9984 - val_loss: 0.6137 - val_categorical_accuracy: 0.8933\n",
      "Epoch 92/100\n",
      "175/175 [==============================] - 1s 4ms/step - loss: 0.0033 - categorical_accuracy: 0.9984 - val_loss: 0.6368 - val_categorical_accuracy: 0.8926\n",
      "Epoch 93/100\n",
      "175/175 [==============================] - 1s 4ms/step - loss: 0.0026 - categorical_accuracy: 0.9986 - val_loss: 0.6281 - val_categorical_accuracy: 0.8941\n",
      "Epoch 94/100\n",
      "175/175 [==============================] - 1s 4ms/step - loss: 0.0023 - categorical_accuracy: 0.9984 - val_loss: 0.6714 - val_categorical_accuracy: 0.8933\n",
      "Epoch 95/100\n",
      "175/175 [==============================] - 1s 4ms/step - loss: 0.0030 - categorical_accuracy: 0.9980 - val_loss: 0.6374 - val_categorical_accuracy: 0.8933\n",
      "Epoch 96/100\n",
      "175/175 [==============================] - 1s 4ms/step - loss: 0.0029 - categorical_accuracy: 0.9986 - val_loss: 0.6552 - val_categorical_accuracy: 0.8962\n",
      "Epoch 97/100\n",
      "175/175 [==============================] - 1s 4ms/step - loss: 0.0025 - categorical_accuracy: 0.9987 - val_loss: 0.6566 - val_categorical_accuracy: 0.8941\n",
      "Epoch 98/100\n",
      "175/175 [==============================] - 1s 4ms/step - loss: 0.0022 - categorical_accuracy: 0.9987 - val_loss: 0.6967 - val_categorical_accuracy: 0.8969\n",
      "Epoch 99/100\n",
      "175/175 [==============================] - 1s 4ms/step - loss: 0.0033 - categorical_accuracy: 0.9980 - val_loss: 0.6662 - val_categorical_accuracy: 0.8919\n",
      "Epoch 100/100\n",
      "175/175 [==============================] - 1s 5ms/step - loss: 0.0026 - categorical_accuracy: 0.9982 - val_loss: 0.6628 - val_categorical_accuracy: 0.8941\n"
     ]
    }
   ],
   "source": [
    "\n",
    "#step1\n",
    "#declaring the outerlayer shape\n",
    "num_labels = y.shape[1]\n",
    "\n",
    "#declaring the input layer shape\n",
    "input_shape= (40,)\n",
    "\n",
    "#instantiating and building \n",
    "nn_model1 = keras.Sequential([layers.InputLayer(input_shape=input_shape),\n",
    "                         layers.Dense(80, activation=\"relu\"),\n",
    "                         layers.Dense(160, activation=\"relu\"),\n",
    "                         layers.Dense(320, activation=\"relu\"),\n",
    "                         layers.Dense(160, activation=\"relu\"),\n",
    "                         layers.Dense(num_labels, activation=\"softmax\")])\n",
    "\n",
    "#step2\n",
    "#Compiling\n",
    "nn_model1.compile(\n",
    "                # Optimizer\n",
    "                optimizer=keras.optimizers.Adam(),  \n",
    "                # Loss function to minimize\n",
    "                loss=[keras.losses.CategoricalCrossentropy()],\n",
    "                # Metric used to evaluate model\n",
    "                metrics=[keras.metrics.CategoricalAccuracy()]\n",
    ")\n",
    "    \n",
    "#step3\n",
    "# Train the network\n",
    "history = nn_model1.fit(X_remainder_ss, y_remainder,\n",
    "                    epochs=100, batch_size=32, verbose=1, validation_split=0.2,\n",
    "                    validation_data=(X_test_ss, y_test))"
   ]
  },
  {
   "cell_type": "code",
   "execution_count": 228,
   "id": "26c3f94a-d6d8-4ff4-aa9f-3b22dd2db896",
   "metadata": {},
   "outputs": [
    {
     "name": "stdout",
     "output_type": "stream",
     "text": [
      "Model: \"sequential_18\"\n",
      "_________________________________________________________________\n",
      "Layer (type)                 Output Shape              Param #   \n",
      "=================================================================\n",
      "dense_97 (Dense)             (None, 80)                3280      \n",
      "_________________________________________________________________\n",
      "dense_98 (Dense)             (None, 160)               12960     \n",
      "_________________________________________________________________\n",
      "dense_99 (Dense)             (None, 320)               51520     \n",
      "_________________________________________________________________\n",
      "dense_100 (Dense)            (None, 160)               51360     \n",
      "_________________________________________________________________\n",
      "dense_101 (Dense)            (None, 10)                1610      \n",
      "=================================================================\n",
      "Total params: 120,730\n",
      "Trainable params: 120,730\n",
      "Non-trainable params: 0\n",
      "_________________________________________________________________\n"
     ]
    }
   ],
   "source": [
    "nn_model1.summary()"
   ]
  },
  {
   "cell_type": "markdown",
   "id": "e804ef01-8146-47f6-bd14-c6803d474f07",
   "metadata": {},
   "source": [
    "In this model we have 210,442 trainable parameters."
   ]
  },
  {
   "cell_type": "code",
   "execution_count": 229,
   "id": "9bfde914-4d73-49d3-b0a6-dcc0da2add22",
   "metadata": {},
   "outputs": [
    {
     "name": "stdout",
     "output_type": "stream",
     "text": [
      "Training Accuracy: 97.78%\n",
      "Testing Accuracy: 89.47%\n"
     ]
    }
   ],
   "source": [
    "# Evaluating the model on the training and testing set\n",
    "score = nn_model1.evaluate(X_remainder_ss, y_remainder, verbose=0)\n",
    "print(\"Training Accuracy: {0:.2%}\".format(score[1]))\n",
    "\n",
    "score = nn_model1.evaluate(X_test_ss, y_test, verbose=0)\n",
    "print(\"Testing Accuracy: {0:.2%}\".format(score[1]))"
   ]
  },
  {
   "cell_type": "markdown",
   "id": "6e5adfca-9342-4070-8e8b-ac82100d715a",
   "metadata": {},
   "source": [
    "Here we see this model got a Training accuracy of 97.78% and a Testing accuracy of 89.47%. This is better than the Random Forest above. Even though is a very simple feed forward NN, it does okay with that data provided. The training and testing scores are close together. This means that the model is able to classify unseen data fairly well. I do believe it is over fitting the data quite a bit. \n",
    "\n",
    "In the next NN models I will add:\n",
    "- A **Batchnormalization layer:** This is a layer-by-layer scaling technique that was found to improve the training of deep neural networks and their performance. Batch normalization acts as regularization and the architecture needs to rely less on dropout layers to avoid overfitting. The changes in gradients become less severe (in other words, the loss surface is smoother) which helps the learning process and gives improved performance. Larger learning rates can be used which leads to faster convergence. \n",
    "- A **Dropout layer:** This is another way to control overfitting. It randomly 'drops' or leaves out a certain amount of nodes. By leaving out some nodes, we force the neural network to learn more robust features from the data."
   ]
  },
  {
   "cell_type": "code",
   "execution_count": 230,
   "id": "d472af6a-487f-4d6e-bb66-62480474bbd1",
   "metadata": {},
   "outputs": [
    {
     "data": {
      "image/png": "[encoded data removed]",
      "text/plain": [
       "<Figure size 432x288 with 1 Axes>"
      ]
     },
     "metadata": {
      "needs_background": "light"
     },
     "output_type": "display_data"
    }
   ],
   "source": [
    "#showing the train loss and validation loss\n",
    "plt.plot(history.history['loss'])\n",
    "plt.plot(history.history['val_loss'])\n",
    "plt.title('NN Model #1 Loss')\n",
    "plt.ylabel('Loss')\n",
    "plt.xlabel('Epoch')\n",
    "plt.legend(['Train', 'Validation'])\n",
    "plt.show()"
   ]
  },
  {
   "cell_type": "markdown",
   "id": "bffbadab-4e36-428b-a3a7-72ad72db9dd1",
   "metadata": {},
   "source": [
    "We can see that right away the more epochs there is, the more the Validation set loss increases. Whereas the Train set quickly drops and stays around zero loss, though it does spike during the 30th and 60th epochs."
   ]
  },
  {
   "cell_type": "code",
   "execution_count": 231,
   "id": "0866408a-d495-46c0-bcb6-094d8ccb0b4c",
   "metadata": {},
   "outputs": [
    {
     "data": {
      "image/png": "[encoded data removed]",
      "text/plain": [
       "<Figure size 432x288 with 1 Axes>"
      ]
     },
     "metadata": {
      "needs_background": "light"
     },
     "output_type": "display_data"
    }
   ],
   "source": [
    "#showing the train accuracy and validation accuracy\n",
    "plt.plot(history.history['categorical_accuracy'])\n",
    "plt.plot(history.history['val_categorical_accuracy'])\n",
    "plt.title('NN Model #1 Loss')\n",
    "plt.ylabel('Loss')\n",
    "plt.xlabel('Epoch')\n",
    "plt.legend(['Train', 'Validation'])\n",
    "plt.show()"
   ]
  },
  {
   "cell_type": "markdown",
   "id": "72b2714c-44f3-4ea6-b628-cec10ab7a0e5",
   "metadata": {},
   "source": [
    "The accuracy is a different story than the loss. The Validation set hovers between ~85% and 90% in accuracy. The Train set quickly starts to overfit. This needs a lot of improvement, but its a decent place to start."
   ]
  },
  {
   "cell_type": "markdown",
   "id": "c468f160-296e-4eff-8a6b-b961d34ad10e",
   "metadata": {},
   "source": [
    "### Predictions and Evaluation"
   ]
  },
  {
   "cell_type": "code",
   "execution_count": 253,
   "id": "06f24804-e565-4774-be7a-64fe344293ea",
   "metadata": {},
   "outputs": [],
   "source": [
    "#getting the predictions\n",
    "test_pred = nn_model1.predict(X_test_ss).round()\n",
    "train_pred = nn_model1.predict(X_remainder_ss).round()\n",
    "\n",
    "y_hat_hard_test = (test_pred > 0.5).astype(int)\n",
    "y_hat_hard_train = (train_pred > 0.5).astype(int)"
   ]
  },
  {
   "cell_type": "code",
   "execution_count": 254,
   "id": "092eb18a-0188-46d3-a3e7-9eb48a8205e0",
   "metadata": {},
   "outputs": [
    {
     "name": "stdout",
     "output_type": "stream",
     "text": [
      "Classification Report NN Model 1: \n",
      "=======================================================\n",
      "\n",
      "              precision    recall  f1-score   support\n",
      "\n",
      "           0       0.94      0.97      0.95       194\n",
      "           1       0.87      0.91      0.89        79\n",
      "           2       0.80      0.84      0.82       189\n",
      "           3       0.89      0.80      0.84       203\n",
      "           4       0.94      0.88      0.91       234\n",
      "           5       0.94      0.95      0.94       199\n",
      "           6       0.73      0.93      0.82        56\n",
      "           7       0.94      0.95      0.95       183\n",
      "           8       0.93      0.97      0.95       191\n",
      "           9       0.87      0.79      0.83       219\n",
      "\n",
      "   micro avg       0.90      0.89      0.90      1747\n",
      "   macro avg       0.88      0.90      0.89      1747\n",
      "weighted avg       0.90      0.89      0.90      1747\n",
      " samples avg       0.89      0.89      0.89      1747\n",
      "\n"
     ]
    }
   ],
   "source": [
    "from sklearn.metrics import classification_report\n",
    "\n",
    "print_line = \"\\n=======================================================\\n\"\n",
    "\n",
    "# Confusion matrices\n",
    "print(\"Classification Report NN Model 1:\", print_line)\n",
    "\n",
    "report_initial = classification_report(y_test, y_hat_hard_test)\n",
    "print(report_initial)"
   ]
  },
  {
   "cell_type": "markdown",
   "id": "f0adec4f-6817-4ce8-b0d5-88164bc18646",
   "metadata": {},
   "source": [
    "Taking a look at the classification report for the NN model 1, it seems that class 8 got the highest scores. All the scores hover between high 80's and high 90's%. \n",
    "\n",
    "- The `precision` in our model good. The average score is in the 80%, that means that about 80% of the guesses were correct, and 20% were wrong. That is a decent score.\n",
    "\n",
    "- The `recall` score in our model good. The average score is 89%, that means that only 89% of the positive/correct guesses were predicted as positive/correct, and 11% were predicted as False Negatives.\n",
    "\n",
    "- The `F1` score hovers around 80-95%. Meaning our model is quite good at predicting false positives, or true positives. \n",
    "\n",
    "We must keep in mind that this model is overfitting."
   ]
  },
  {
   "cell_type": "markdown",
   "id": "72f17a79-8734-4762-b4a2-9dbc4181c042",
   "metadata": {},
   "source": [
    "**AUC-ROC**"
   ]
  },
  {
   "cell_type": "code",
   "execution_count": 255,
   "id": "2ba624f2-2cf3-4b35-9cb8-cdcd6d0ef3e5",
   "metadata": {},
   "outputs": [
    {
     "name": "stdout",
     "output_type": "stream",
     "text": [
      "AUC-ROC Scores NN Model 1: \n",
      "=======================================================\n",
      "\n",
      "AUC on train set: 0.9874170822863505\n",
      "AUC on test set: 0.9411845508646287\n"
     ]
    }
   ],
   "source": [
    "#getting the predictions\n",
    "test_pred = nn_model1.predict(X_test_ss).round()\n",
    "train_pred = nn_model1.predict(X_remainder_ss).round()\n",
    "\n",
    "y_hat_hard_test = (test_pred > 0.5).astype(int)\n",
    "y_hat_hard_train = (train_pred > 0.5).astype(int)\n",
    "\n",
    "print_line = \"\\n=======================================================\\n\"\n",
    "\n",
    "print(\"AUC-ROC Scores NN Model 1:\", print_line)\n",
    "\n",
    "# Score (AUC)\n",
    "multi_test = roc_auc_score(y_test, y_hat_hard_test, multi_class='ovo', average='weighted')\n",
    "multi_train = roc_auc_score(y_remainder, y_hat_hard_train, multi_class='ovo', average='weighted')\n",
    "print(f'AUC on train set: {multi_train}')\n",
    "print(f'AUC on test set: {multi_test}')"
   ]
  },
  {
   "cell_type": "markdown",
   "id": "d3cca2d8-ccfe-485a-a362-e5a29268d6ec",
   "metadata": {},
   "source": [
    "This was a simple base Neural Network to get a benchmark for the data. It will need some optimization to help with overfitting. This NN_model1 did fairly better than the RF above. Achieving a f1 score ranging from  80-95%, and an AUC of 0.941 on the test set. "
   ]
  },
  {
   "cell_type": "markdown",
   "id": "da9b8a28-1459-40e7-849c-3cceef91ce8d",
   "metadata": {},
   "source": [
    "## NN MODEL 2\n",
    "In this second NN model I will add in a drop out layer and batchnormalization to each layer in the NN. These will help with the major overfitting. \n",
    "\n",
    "- **Epochs:** The number of epochs is a hyperparameter of gradient descent that controls the number of complete passes through the training dataset.\n",
    "\n",
    "- **Softftmax: Activation** on the output layer is mostly used for multi-class classification that distributes the probability of each output node."
   ]
  },
  {
   "cell_type": "code",
   "execution_count": 235,
   "id": "46b5c7e9-faab-4bcb-875e-f1dfe7852308",
   "metadata": {
    "scrolled": true,
    "tags": []
   },
   "outputs": [
    {
     "name": "stdout",
     "output_type": "stream",
     "text": [
      "Epoch 1/100\n",
      "175/175 [==============================] - 1s 5ms/step - loss: 1.8487 - categorical_accuracy: 0.3740 - val_loss: 1.3697 - val_categorical_accuracy: 0.5977\n",
      "Epoch 2/100\n",
      "175/175 [==============================] - 1s 5ms/step - loss: 1.4633 - categorical_accuracy: 0.5025 - val_loss: 1.0752 - val_categorical_accuracy: 0.6328\n",
      "Epoch 3/100\n",
      "175/175 [==============================] - 1s 5ms/step - loss: 1.2804 - categorical_accuracy: 0.5617 - val_loss: 0.8906 - val_categorical_accuracy: 0.7151\n",
      "Epoch 4/100\n",
      "175/175 [==============================] - 1s 5ms/step - loss: 1.1680 - categorical_accuracy: 0.5954 - val_loss: 0.8351 - val_categorical_accuracy: 0.7101\n",
      "Epoch 5/100\n",
      "175/175 [==============================] - 1s 5ms/step - loss: 1.0938 - categorical_accuracy: 0.6296 - val_loss: 0.7714 - val_categorical_accuracy: 0.7409\n",
      "Epoch 6/100\n",
      "175/175 [==============================] - 1s 5ms/step - loss: 1.0346 - categorical_accuracy: 0.6494 - val_loss: 0.6863 - val_categorical_accuracy: 0.7781\n",
      "Epoch 7/100\n",
      "175/175 [==============================] - 1s 5ms/step - loss: 0.9877 - categorical_accuracy: 0.6582 - val_loss: 0.6741 - val_categorical_accuracy: 0.7702\n",
      "Epoch 8/100\n",
      "175/175 [==============================] - 1s 5ms/step - loss: 0.9398 - categorical_accuracy: 0.6865 - val_loss: 0.6465 - val_categorical_accuracy: 0.7853\n",
      "Epoch 9/100\n",
      "175/175 [==============================] - 1s 5ms/step - loss: 0.8966 - categorical_accuracy: 0.6943 - val_loss: 0.6083 - val_categorical_accuracy: 0.7989\n",
      "Epoch 10/100\n",
      "175/175 [==============================] - 1s 5ms/step - loss: 0.8528 - categorical_accuracy: 0.7047 - val_loss: 0.5849 - val_categorical_accuracy: 0.7960\n",
      "Epoch 11/100\n",
      "175/175 [==============================] - 1s 5ms/step - loss: 0.8147 - categorical_accuracy: 0.7208 - val_loss: 0.5427 - val_categorical_accuracy: 0.8225\n",
      "Epoch 12/100\n",
      "175/175 [==============================] - 1s 5ms/step - loss: 0.7955 - categorical_accuracy: 0.7305 - val_loss: 0.5158 - val_categorical_accuracy: 0.8304\n",
      "Epoch 13/100\n",
      "175/175 [==============================] - 1s 5ms/step - loss: 0.7855 - categorical_accuracy: 0.7391 - val_loss: 0.4889 - val_categorical_accuracy: 0.8411\n",
      "Epoch 14/100\n",
      "175/175 [==============================] - 1s 5ms/step - loss: 0.7628 - categorical_accuracy: 0.7402 - val_loss: 0.5063 - val_categorical_accuracy: 0.8311\n",
      "Epoch 15/100\n",
      "175/175 [==============================] - 1s 5ms/step - loss: 0.7481 - categorical_accuracy: 0.7504 - val_loss: 0.5015 - val_categorical_accuracy: 0.8382\n",
      "Epoch 16/100\n",
      "175/175 [==============================] - 1s 5ms/step - loss: 0.7429 - categorical_accuracy: 0.7455 - val_loss: 0.4788 - val_categorical_accuracy: 0.8504\n",
      "Epoch 17/100\n",
      "175/175 [==============================] - 1s 5ms/step - loss: 0.7192 - categorical_accuracy: 0.7555 - val_loss: 0.4741 - val_categorical_accuracy: 0.8411\n",
      "Epoch 18/100\n",
      "175/175 [==============================] - 1s 5ms/step - loss: 0.6954 - categorical_accuracy: 0.7593 - val_loss: 0.4833 - val_categorical_accuracy: 0.8339\n",
      "Epoch 19/100\n",
      "175/175 [==============================] - 1s 5ms/step - loss: 0.6577 - categorical_accuracy: 0.7751 - val_loss: 0.4439 - val_categorical_accuracy: 0.8482\n",
      "Epoch 20/100\n",
      "175/175 [==============================] - 1s 5ms/step - loss: 0.6493 - categorical_accuracy: 0.7734 - val_loss: 0.4385 - val_categorical_accuracy: 0.8497\n",
      "Epoch 21/100\n",
      "175/175 [==============================] - 1s 5ms/step - loss: 0.6438 - categorical_accuracy: 0.7826 - val_loss: 0.4304 - val_categorical_accuracy: 0.8568\n",
      "Epoch 22/100\n",
      "175/175 [==============================] - 1s 5ms/step - loss: 0.6417 - categorical_accuracy: 0.7717 - val_loss: 0.4465 - val_categorical_accuracy: 0.8454\n",
      "Epoch 23/100\n",
      "175/175 [==============================] - 1s 5ms/step - loss: 0.6200 - categorical_accuracy: 0.7892 - val_loss: 0.4185 - val_categorical_accuracy: 0.8618\n",
      "Epoch 24/100\n",
      "175/175 [==============================] - 1s 5ms/step - loss: 0.6200 - categorical_accuracy: 0.7856 - val_loss: 0.4352 - val_categorical_accuracy: 0.8533\n",
      "Epoch 25/100\n",
      "175/175 [==============================] - 1s 5ms/step - loss: 0.5923 - categorical_accuracy: 0.7962 - val_loss: 0.4286 - val_categorical_accuracy: 0.8554\n",
      "Epoch 26/100\n",
      "175/175 [==============================] - 1s 5ms/step - loss: 0.6124 - categorical_accuracy: 0.7887 - val_loss: 0.3989 - val_categorical_accuracy: 0.8669\n",
      "Epoch 27/100\n",
      "175/175 [==============================] - 1s 5ms/step - loss: 0.5895 - categorical_accuracy: 0.7994 - val_loss: 0.3945 - val_categorical_accuracy: 0.8704\n",
      "Epoch 28/100\n",
      "175/175 [==============================] - 1s 5ms/step - loss: 0.5802 - categorical_accuracy: 0.8037 - val_loss: 0.4056 - val_categorical_accuracy: 0.8647\n",
      "Epoch 29/100\n",
      "175/175 [==============================] - 1s 5ms/step - loss: 0.5834 - categorical_accuracy: 0.7971 - val_loss: 0.3927 - val_categorical_accuracy: 0.8712\n",
      "Epoch 30/100\n",
      "175/175 [==============================] - 1s 5ms/step - loss: 0.5597 - categorical_accuracy: 0.8096 - val_loss: 0.4007 - val_categorical_accuracy: 0.8611\n",
      "Epoch 31/100\n",
      "175/175 [==============================] - 1s 5ms/step - loss: 0.5766 - categorical_accuracy: 0.8062 - val_loss: 0.3997 - val_categorical_accuracy: 0.8669\n",
      "Epoch 32/100\n",
      "175/175 [==============================] - 1s 5ms/step - loss: 0.5566 - categorical_accuracy: 0.8137 - val_loss: 0.3835 - val_categorical_accuracy: 0.8797\n",
      "Epoch 33/100\n",
      "175/175 [==============================] - 1s 5ms/step - loss: 0.5489 - categorical_accuracy: 0.8089 - val_loss: 0.3698 - val_categorical_accuracy: 0.8833\n",
      "Epoch 34/100\n",
      "175/175 [==============================] - 1s 6ms/step - loss: 0.5288 - categorical_accuracy: 0.8193 - val_loss: 0.3747 - val_categorical_accuracy: 0.8747\n",
      "Epoch 35/100\n",
      "175/175 [==============================] - 1s 5ms/step - loss: 0.5431 - categorical_accuracy: 0.8135 - val_loss: 0.3664 - val_categorical_accuracy: 0.8776\n",
      "Epoch 36/100\n",
      "175/175 [==============================] - 1s 5ms/step - loss: 0.5426 - categorical_accuracy: 0.8110 - val_loss: 0.3946 - val_categorical_accuracy: 0.8697\n",
      "Epoch 37/100\n",
      "175/175 [==============================] - 1s 5ms/step - loss: 0.5343 - categorical_accuracy: 0.8223 - val_loss: 0.3634 - val_categorical_accuracy: 0.8733\n",
      "Epoch 38/100\n",
      "175/175 [==============================] - 1s 5ms/step - loss: 0.5115 - categorical_accuracy: 0.8259 - val_loss: 0.3539 - val_categorical_accuracy: 0.8797\n",
      "Epoch 39/100\n",
      "175/175 [==============================] - 1s 5ms/step - loss: 0.5379 - categorical_accuracy: 0.8116 - val_loss: 0.3644 - val_categorical_accuracy: 0.8797\n",
      "Epoch 40/100\n",
      "175/175 [==============================] - 1s 5ms/step - loss: 0.5142 - categorical_accuracy: 0.8214 - val_loss: 0.3555 - val_categorical_accuracy: 0.8898\n",
      "Epoch 41/100\n",
      "175/175 [==============================] - 1s 5ms/step - loss: 0.4971 - categorical_accuracy: 0.8325 - val_loss: 0.3624 - val_categorical_accuracy: 0.8783\n",
      "Epoch 42/100\n",
      "175/175 [==============================] - 1s 5ms/step - loss: 0.5142 - categorical_accuracy: 0.8248 - val_loss: 0.3524 - val_categorical_accuracy: 0.8805\n",
      "Epoch 43/100\n",
      "175/175 [==============================] - 1s 5ms/step - loss: 0.5027 - categorical_accuracy: 0.8307 - val_loss: 0.3592 - val_categorical_accuracy: 0.8833\n",
      "Epoch 44/100\n",
      "175/175 [==============================] - 1s 6ms/step - loss: 0.5061 - categorical_accuracy: 0.8232 - val_loss: 0.3509 - val_categorical_accuracy: 0.8805\n",
      "Epoch 45/100\n",
      "175/175 [==============================] - 1s 5ms/step - loss: 0.4977 - categorical_accuracy: 0.8282 - val_loss: 0.3590 - val_categorical_accuracy: 0.8783\n",
      "Epoch 46/100\n",
      "175/175 [==============================] - 1s 6ms/step - loss: 0.4815 - categorical_accuracy: 0.8278 - val_loss: 0.3472 - val_categorical_accuracy: 0.8912\n",
      "Epoch 47/100\n",
      "175/175 [==============================] - 1s 6ms/step - loss: 0.4745 - categorical_accuracy: 0.8391 - val_loss: 0.3501 - val_categorical_accuracy: 0.8840\n",
      "Epoch 48/100\n",
      "175/175 [==============================] - 1s 6ms/step - loss: 0.4765 - categorical_accuracy: 0.8402 - val_loss: 0.3456 - val_categorical_accuracy: 0.8826\n",
      "Epoch 49/100\n",
      "175/175 [==============================] - 1s 6ms/step - loss: 0.4799 - categorical_accuracy: 0.8336 - val_loss: 0.3548 - val_categorical_accuracy: 0.8797\n",
      "Epoch 50/100\n",
      "175/175 [==============================] - 1s 7ms/step - loss: 0.4639 - categorical_accuracy: 0.8352 - val_loss: 0.3498 - val_categorical_accuracy: 0.8769\n",
      "Epoch 51/100\n",
      "175/175 [==============================] - 1s 6ms/step - loss: 0.4634 - categorical_accuracy: 0.8384 - val_loss: 0.3411 - val_categorical_accuracy: 0.8890\n",
      "Epoch 52/100\n",
      "175/175 [==============================] - 1s 5ms/step - loss: 0.4421 - categorical_accuracy: 0.8525 - val_loss: 0.3383 - val_categorical_accuracy: 0.8855\n",
      "Epoch 53/100\n",
      "175/175 [==============================] - 1s 5ms/step - loss: 0.4414 - categorical_accuracy: 0.8481 - val_loss: 0.3450 - val_categorical_accuracy: 0.8876\n",
      "Epoch 54/100\n",
      "175/175 [==============================] - 1s 5ms/step - loss: 0.4514 - categorical_accuracy: 0.8438 - val_loss: 0.3472 - val_categorical_accuracy: 0.8876\n",
      "Epoch 55/100\n",
      "175/175 [==============================] - 1s 5ms/step - loss: 0.4645 - categorical_accuracy: 0.8379 - val_loss: 0.3455 - val_categorical_accuracy: 0.8826\n",
      "Epoch 56/100\n",
      "175/175 [==============================] - 1s 6ms/step - loss: 0.4575 - categorical_accuracy: 0.8377 - val_loss: 0.3445 - val_categorical_accuracy: 0.8912\n",
      "Epoch 57/100\n",
      "175/175 [==============================] - 1s 6ms/step - loss: 0.4283 - categorical_accuracy: 0.8499 - val_loss: 0.3400 - val_categorical_accuracy: 0.8876\n",
      "Epoch 58/100\n",
      "175/175 [==============================] - 1s 5ms/step - loss: 0.4338 - categorical_accuracy: 0.8475 - val_loss: 0.3295 - val_categorical_accuracy: 0.8905\n",
      "Epoch 59/100\n",
      "175/175 [==============================] - 1s 5ms/step - loss: 0.4465 - categorical_accuracy: 0.8490 - val_loss: 0.3400 - val_categorical_accuracy: 0.8905\n",
      "Epoch 60/100\n",
      "175/175 [==============================] - 1s 6ms/step - loss: 0.4421 - categorical_accuracy: 0.8477 - val_loss: 0.3235 - val_categorical_accuracy: 0.8926\n",
      "Epoch 61/100\n",
      "175/175 [==============================] - 1s 5ms/step - loss: 0.4359 - categorical_accuracy: 0.8472 - val_loss: 0.3370 - val_categorical_accuracy: 0.8941\n",
      "Epoch 62/100\n",
      "175/175 [==============================] - 1s 5ms/step - loss: 0.4443 - categorical_accuracy: 0.8463 - val_loss: 0.3388 - val_categorical_accuracy: 0.8919\n",
      "Epoch 63/100\n",
      "175/175 [==============================] - 1s 5ms/step - loss: 0.4416 - categorical_accuracy: 0.8457 - val_loss: 0.3265 - val_categorical_accuracy: 0.8955\n",
      "Epoch 64/100\n",
      "175/175 [==============================] - 1s 5ms/step - loss: 0.4420 - categorical_accuracy: 0.8509 - val_loss: 0.3289 - val_categorical_accuracy: 0.8948\n",
      "Epoch 65/100\n",
      "175/175 [==============================] - 1s 5ms/step - loss: 0.4213 - categorical_accuracy: 0.8550 - val_loss: 0.3338 - val_categorical_accuracy: 0.8912\n",
      "Epoch 66/100\n",
      "175/175 [==============================] - 1s 5ms/step - loss: 0.4286 - categorical_accuracy: 0.8499 - val_loss: 0.3236 - val_categorical_accuracy: 0.8955\n",
      "Epoch 67/100\n",
      "175/175 [==============================] - 1s 5ms/step - loss: 0.4291 - categorical_accuracy: 0.8572 - val_loss: 0.3230 - val_categorical_accuracy: 0.8948\n",
      "Epoch 68/100\n",
      "175/175 [==============================] - 1s 5ms/step - loss: 0.4335 - categorical_accuracy: 0.8559 - val_loss: 0.3294 - val_categorical_accuracy: 0.8962\n",
      "Epoch 69/100\n",
      "175/175 [==============================] - 1s 5ms/step - loss: 0.4259 - categorical_accuracy: 0.8554 - val_loss: 0.3228 - val_categorical_accuracy: 0.8962\n",
      "Epoch 70/100\n",
      "175/175 [==============================] - 1s 5ms/step - loss: 0.4076 - categorical_accuracy: 0.8645 - val_loss: 0.3344 - val_categorical_accuracy: 0.8876\n",
      "Epoch 71/100\n",
      "175/175 [==============================] - 1s 5ms/step - loss: 0.4120 - categorical_accuracy: 0.8543 - val_loss: 0.3272 - val_categorical_accuracy: 0.8840\n",
      "Epoch 72/100\n",
      "175/175 [==============================] - 1s 5ms/step - loss: 0.4024 - categorical_accuracy: 0.8618 - val_loss: 0.3387 - val_categorical_accuracy: 0.8905\n",
      "Epoch 73/100\n",
      "175/175 [==============================] - 1s 5ms/step - loss: 0.4166 - categorical_accuracy: 0.8550 - val_loss: 0.3247 - val_categorical_accuracy: 0.8905\n",
      "Epoch 74/100\n",
      "175/175 [==============================] - 1s 5ms/step - loss: 0.4015 - categorical_accuracy: 0.8642 - val_loss: 0.3261 - val_categorical_accuracy: 0.8941\n",
      "Epoch 75/100\n",
      "175/175 [==============================] - 1s 5ms/step - loss: 0.3932 - categorical_accuracy: 0.8645 - val_loss: 0.3113 - val_categorical_accuracy: 0.9019\n",
      "Epoch 76/100\n",
      "175/175 [==============================] - 1s 5ms/step - loss: 0.4196 - categorical_accuracy: 0.8584 - val_loss: 0.3131 - val_categorical_accuracy: 0.8976\n",
      "Epoch 77/100\n",
      "175/175 [==============================] - 1s 5ms/step - loss: 0.4131 - categorical_accuracy: 0.8617 - val_loss: 0.3097 - val_categorical_accuracy: 0.9026\n",
      "Epoch 78/100\n",
      "175/175 [==============================] - 1s 5ms/step - loss: 0.4100 - categorical_accuracy: 0.8629 - val_loss: 0.3177 - val_categorical_accuracy: 0.8962\n",
      "Epoch 79/100\n",
      "175/175 [==============================] - 1s 5ms/step - loss: 0.4035 - categorical_accuracy: 0.8611 - val_loss: 0.3121 - val_categorical_accuracy: 0.8941\n",
      "Epoch 80/100\n",
      "175/175 [==============================] - 1s 5ms/step - loss: 0.3998 - categorical_accuracy: 0.8647 - val_loss: 0.3179 - val_categorical_accuracy: 0.8941\n",
      "Epoch 81/100\n",
      "175/175 [==============================] - 1s 5ms/step - loss: 0.4081 - categorical_accuracy: 0.8561 - val_loss: 0.3145 - val_categorical_accuracy: 0.9026\n",
      "Epoch 82/100\n",
      "175/175 [==============================] - 1s 5ms/step - loss: 0.4168 - categorical_accuracy: 0.8620 - val_loss: 0.3167 - val_categorical_accuracy: 0.9012\n",
      "Epoch 83/100\n",
      "175/175 [==============================] - 1s 5ms/step - loss: 0.3873 - categorical_accuracy: 0.8645 - val_loss: 0.3008 - val_categorical_accuracy: 0.9084\n",
      "Epoch 84/100\n",
      "175/175 [==============================] - 1s 5ms/step - loss: 0.3857 - categorical_accuracy: 0.8679 - val_loss: 0.3136 - val_categorical_accuracy: 0.9084\n",
      "Epoch 85/100\n",
      "175/175 [==============================] - 1s 5ms/step - loss: 0.3896 - categorical_accuracy: 0.8658 - val_loss: 0.3188 - val_categorical_accuracy: 0.8976\n",
      "Epoch 86/100\n",
      "175/175 [==============================] - 1s 5ms/step - loss: 0.4038 - categorical_accuracy: 0.8604 - val_loss: 0.3027 - val_categorical_accuracy: 0.9005\n",
      "Epoch 87/100\n",
      "175/175 [==============================] - 1s 5ms/step - loss: 0.3783 - categorical_accuracy: 0.8703 - val_loss: 0.3007 - val_categorical_accuracy: 0.9084\n",
      "Epoch 88/100\n",
      "175/175 [==============================] - 1s 5ms/step - loss: 0.3915 - categorical_accuracy: 0.8656 - val_loss: 0.3324 - val_categorical_accuracy: 0.8955\n",
      "Epoch 89/100\n",
      "175/175 [==============================] - 1s 5ms/step - loss: 0.3802 - categorical_accuracy: 0.8686 - val_loss: 0.3134 - val_categorical_accuracy: 0.9041\n",
      "Epoch 90/100\n",
      "175/175 [==============================] - 1s 5ms/step - loss: 0.3923 - categorical_accuracy: 0.8710 - val_loss: 0.3158 - val_categorical_accuracy: 0.9026\n",
      "Epoch 91/100\n",
      "175/175 [==============================] - 1s 5ms/step - loss: 0.3971 - categorical_accuracy: 0.8629 - val_loss: 0.3135 - val_categorical_accuracy: 0.9034\n",
      "Epoch 92/100\n",
      "175/175 [==============================] - 1s 5ms/step - loss: 0.3869 - categorical_accuracy: 0.8694 - val_loss: 0.3195 - val_categorical_accuracy: 0.8991\n",
      "Epoch 93/100\n",
      "175/175 [==============================] - 1s 7ms/step - loss: 0.3728 - categorical_accuracy: 0.8724 - val_loss: 0.3234 - val_categorical_accuracy: 0.8976\n",
      "Epoch 94/100\n",
      "175/175 [==============================] - 1s 5ms/step - loss: 0.3779 - categorical_accuracy: 0.8715 - val_loss: 0.3308 - val_categorical_accuracy: 0.8926\n",
      "Epoch 95/100\n",
      "175/175 [==============================] - 1s 5ms/step - loss: 0.3624 - categorical_accuracy: 0.8771 - val_loss: 0.3170 - val_categorical_accuracy: 0.8955\n",
      "Epoch 96/100\n",
      "175/175 [==============================] - 1s 5ms/step - loss: 0.3630 - categorical_accuracy: 0.8780 - val_loss: 0.3033 - val_categorical_accuracy: 0.8991\n",
      "Epoch 97/100\n",
      "175/175 [==============================] - 1s 5ms/step - loss: 0.3792 - categorical_accuracy: 0.8674 - val_loss: 0.3000 - val_categorical_accuracy: 0.9055\n",
      "Epoch 98/100\n",
      "175/175 [==============================] - 1s 5ms/step - loss: 0.3708 - categorical_accuracy: 0.8733 - val_loss: 0.3067 - val_categorical_accuracy: 0.8955\n",
      "Epoch 99/100\n",
      "175/175 [==============================] - 1s 5ms/step - loss: 0.3878 - categorical_accuracy: 0.8728 - val_loss: 0.3149 - val_categorical_accuracy: 0.8984\n",
      "Epoch 100/100\n",
      "175/175 [==============================] - 1s 5ms/step - loss: 0.3516 - categorical_accuracy: 0.8819 - val_loss: 0.3163 - val_categorical_accuracy: 0.9012\n"
     ]
    }
   ],
   "source": [
    "#step1\n",
    "#declaring the outerlayer shape\n",
    "num_labels = y_remainder.shape[1]\n",
    "\n",
    "#declaring the input layer shape\n",
    "input_shape= (40,)\n",
    "\n",
    "# Create a new sequential model\n",
    "nn_model2 = keras.Sequential([layers.InputLayer(input_shape = input_shape)])\n",
    "\n",
    "# Declare the hidden layers\n",
    "nn_model2.add(layers.Dense(80, activation=\"relu\"))\n",
    "nn_model2.add(layers.Dropout(0.2))\n",
    "nn_model2.add(layers.BatchNormalization()) \n",
    "\n",
    "nn_model2.add(layers.Dense(160, activation=\"relu\"))\n",
    "nn_model2.add(layers.Dropout(0.2))\n",
    "nn_model2.add(layers.BatchNormalization()) \n",
    "\n",
    "nn_model2.add(layers.Dense(320, activation=\"relu\"))\n",
    "nn_model2.add(layers.Dropout(0.2))\n",
    "nn_model2.add(layers.BatchNormalization()) \n",
    "\n",
    "nn_model2.add(layers.Dense(160, activation=\"relu\")) \n",
    "nn_model2.add(layers.Dropout(0.2))\n",
    "\n",
    "# Declare the output layer\n",
    "nn_model2.add(layers.Dense(num_labels, activation=\"softmax\"))\n",
    "\n",
    "nn_model2.compile(\n",
    "                # Optimizer\n",
    "                optimizer=keras.optimizers.Adam(),  \n",
    "                # Loss function to minimize\n",
    "                loss=keras.losses.CategoricalCrossentropy(),\n",
    "                # Metric used to evaluate model\n",
    "                metrics=[keras.metrics.CategoricalAccuracy()]\n",
    "    )\n",
    "\n",
    "num_epochs = 100\n",
    "num_batch_size = 32\n",
    "\n",
    "history2 = nn_model2.fit(X_remainder_ss, y_remainder, batch_size=num_batch_size,\n",
    "          epochs=num_epochs, validation_split=0.2,\n",
    "          validation_data=(X_test_ss, y_test), verbose=1)"
   ]
  },
  {
   "cell_type": "code",
   "execution_count": 236,
   "id": "ae4d2a4e-4958-4985-be02-8454189ccb9b",
   "metadata": {},
   "outputs": [
    {
     "name": "stdout",
     "output_type": "stream",
     "text": [
      "Model: \"sequential_19\"\n",
      "_________________________________________________________________\n",
      "Layer (type)                 Output Shape              Param #   \n",
      "=================================================================\n",
      "dense_102 (Dense)            (None, 80)                3280      \n",
      "_________________________________________________________________\n",
      "dropout_30 (Dropout)         (None, 80)                0         \n",
      "_________________________________________________________________\n",
      "batch_normalization_23 (Batc (None, 80)                320       \n",
      "_________________________________________________________________\n",
      "dense_103 (Dense)            (None, 160)               12960     \n",
      "_________________________________________________________________\n",
      "dropout_31 (Dropout)         (None, 160)               0         \n",
      "_________________________________________________________________\n",
      "batch_normalization_24 (Batc (None, 160)               640       \n",
      "_________________________________________________________________\n",
      "dense_104 (Dense)            (None, 320)               51520     \n",
      "_________________________________________________________________\n",
      "dropout_32 (Dropout)         (None, 320)               0         \n",
      "_________________________________________________________________\n",
      "batch_normalization_25 (Batc (None, 320)               1280      \n",
      "_________________________________________________________________\n",
      "dense_105 (Dense)            (None, 160)               51360     \n",
      "_________________________________________________________________\n",
      "dropout_33 (Dropout)         (None, 160)               0         \n",
      "_________________________________________________________________\n",
      "dense_106 (Dense)            (None, 10)                1610      \n",
      "=================================================================\n",
      "Total params: 122,970\n",
      "Trainable params: 121,850\n",
      "Non-trainable params: 1,120\n",
      "_________________________________________________________________\n"
     ]
    }
   ],
   "source": [
    "nn_model2.summary()"
   ]
  },
  {
   "cell_type": "markdown",
   "id": "4a1a8cf9-529d-42f4-96cc-660ca73e48b0",
   "metadata": {},
   "source": [
    "There are 146,698 trainable parameters. For a NN this is not that many. In this model there are 1,024 non-trainable parameters."
   ]
  },
  {
   "cell_type": "code",
   "execution_count": 237,
   "id": "090729a5-eba1-430e-91c1-fa0c3ef8f52b",
   "metadata": {},
   "outputs": [
    {
     "name": "stdout",
     "output_type": "stream",
     "text": [
      "Training Accuracy: 96.54%\n",
      "Testing Accuracy: 88.44%\n"
     ]
    }
   ],
   "source": [
    "# Evaluating the model on the training and testing set\n",
    "score = nn_model2.evaluate(X_remainder_ss, y_remainder, verbose=0)\n",
    "print(\"Training Accuracy: {0:.2%}\".format(score[1]))\n",
    "\n",
    "score = nn_model2.evaluate(X_test_ss, y_test, verbose=0)\n",
    "print(\"Testing Accuracy: {0:.2%}\".format(score[1]))"
   ]
  },
  {
   "cell_type": "markdown",
   "id": "82590652-e2db-4a1a-86a8-52302fa58a1b",
   "metadata": {},
   "source": [
    "Here we see this model got a Training accuracy of 96.54% and a Testing accuracy of 88.44%. The training and testing scores slightly moved closer to together, bu the testing accuracy decreased by 1%."
   ]
  },
  {
   "cell_type": "code",
   "execution_count": 238,
   "id": "f4519d5e-c259-4e23-8fc1-e58ad69c4a91",
   "metadata": {},
   "outputs": [
    {
     "data": {
      "image/png": "[encoded data removed]",
      "text/plain": [
       "<Figure size 432x288 with 1 Axes>"
      ]
     },
     "metadata": {
      "needs_background": "light"
     },
     "output_type": "display_data"
    }
   ],
   "source": [
    "#showing the train loss and validation loss\n",
    "plt.plot(history2.history['loss'])\n",
    "plt.plot(history2.history['val_loss'])\n",
    "plt.title('NN Model #2 Loss')\n",
    "plt.ylabel('Loss')\n",
    "plt.xlabel('Epoch')\n",
    "plt.legend(['Train', 'Validation'])\n",
    "plt.show()"
   ]
  },
  {
   "cell_type": "markdown",
   "id": "7f077985-ea88-4255-92d1-ca0cd2c08a8e",
   "metadata": {},
   "source": [
    "We can see here that the loss for both training and validation sets have a steady rate of decreasing as we move through the epochs. This has greatly improved from the first NN."
   ]
  },
  {
   "cell_type": "code",
   "execution_count": 256,
   "id": "fcec18e7-e347-4ac2-b6f8-49879838a28a",
   "metadata": {},
   "outputs": [
    {
     "data": {
      "image/png": "[encoded data removed]",
      "text/plain": [
       "<Figure size 432x288 with 1 Axes>"
      ]
     },
     "metadata": {
      "needs_background": "light"
     },
     "output_type": "display_data"
    }
   ],
   "source": [
    "#showing the train accuracy and validation accuracy\n",
    "plt.plot(history.history['categorical_accuracy'])\n",
    "plt.plot(history.history['val_categorical_accuracy'])\n",
    "plt.title('NN Model #2 Accuracy')\n",
    "plt.ylabel('Loss')\n",
    "plt.xlabel('Epoch')\n",
    "plt.legend(['Train', 'Validation'])\n",
    "plt.show()"
   ]
  },
  {
   "cell_type": "markdown",
   "id": "b49b660f-8c2c-425b-b757-f494e70b3a3b",
   "metadata": {},
   "source": [
    "The accuracy follows the same trajectory as the first model. The train set seems to over fit quite quickly."
   ]
  },
  {
   "cell_type": "markdown",
   "id": "368b02b4-2c82-4351-85ce-fbafe14b4fdf",
   "metadata": {},
   "source": [
    "### Predictions and Evaluation"
   ]
  },
  {
   "cell_type": "code",
   "execution_count": 257,
   "id": "0b0c9a7f-8042-4655-ac87-7ad9ccd7ba85",
   "metadata": {},
   "outputs": [],
   "source": [
    "#getting the predictions\n",
    "test_pred_2 = nn_model2.predict(X_test_ss).round()\n",
    "train_pred_2= nn_model2.predict(X_remainder_ss).round()\n",
    "\n",
    "y_test_2 = (test_pred_2 > 0.5).astype(int)\n",
    "y_train_2 = (train_pred_2 > 0.5).astype(int)"
   ]
  },
  {
   "cell_type": "code",
   "execution_count": 258,
   "id": "283ea30e-331f-4a67-ba05-f79c75032b92",
   "metadata": {},
   "outputs": [
    {
     "name": "stdout",
     "output_type": "stream",
     "text": [
      "Classification Report NN Model 2: \n",
      "=======================================================\n",
      "\n",
      "              precision    recall  f1-score   support\n",
      "\n",
      "           0       0.94      0.93      0.94       194\n",
      "           1       0.91      0.87      0.89        79\n",
      "           2       0.78      0.80      0.79       189\n",
      "           3       0.90      0.79      0.84       203\n",
      "           4       0.98      0.84      0.90       234\n",
      "           5       0.99      0.89      0.94       199\n",
      "           6       0.81      0.89      0.85        56\n",
      "           7       0.96      0.98      0.97       183\n",
      "           8       0.97      0.96      0.97       191\n",
      "           9       0.81      0.80      0.80       219\n",
      "\n",
      "   micro avg       0.91      0.87      0.89      1747\n",
      "   macro avg       0.90      0.88      0.89      1747\n",
      "weighted avg       0.91      0.87      0.89      1747\n",
      " samples avg       0.87      0.87      0.87      1747\n",
      "\n"
     ]
    }
   ],
   "source": [
    "from sklearn.metrics import classification_report\n",
    "\n",
    "print_line = \"\\n=======================================================\\n\"\n",
    "\n",
    "print(\"Classification Report NN Model 2:\", print_line)\n",
    "\n",
    "report_initial = classification_report(y_test, y_test_2)\n",
    "print(report_initial)"
   ]
  },
  {
   "cell_type": "markdown",
   "id": "fc23f57e-757d-41d7-b504-0cc7cac417b7",
   "metadata": {},
   "source": [
    "The `precision`, `recall` and `F1` scores are all relatively the same as the first NN. "
   ]
  },
  {
   "cell_type": "markdown",
   "id": "b4fbfe39-1014-4c86-850b-ffe6add1c15a",
   "metadata": {},
   "source": [
    "**AUC-ROC Scores**"
   ]
  },
  {
   "cell_type": "code",
   "execution_count": 259,
   "id": "ad86a025-a9b7-4b40-b4b0-b1472abcc3c5",
   "metadata": {},
   "outputs": [
    {
     "name": "stdout",
     "output_type": "stream",
     "text": [
      "AUC-ROC Scores NN Model 2: \n",
      "=======================================================\n",
      "\n",
      "AUC on train set: 0.9777744799275049\n",
      "AUC on test set: 0.931236987634438\n"
     ]
    }
   ],
   "source": [
    "#getting the predictions\n",
    "print_line = \"\\n=======================================================\\n\"\n",
    "\n",
    "print(\"AUC-ROC Scores NN Model 2:\", print_line)\n",
    "\n",
    "# Score (AUC)\n",
    "multi_test_2 = roc_auc_score(y_test, y_test_2, multi_class='ovo', average='weighted')\n",
    "multi_train_2 = roc_auc_score(y_remainder, y_train_2, multi_class='ovo', average='weighted')\n",
    "print(f'AUC on train set: {multi_train_2}')\n",
    "print(f'AUC on test set: {multi_test_2}')"
   ]
  },
  {
   "cell_type": "markdown",
   "id": "70b8ad74-9d6a-4f5d-a272-4354907520cc",
   "metadata": {},
   "source": [
    "NN model 2 achieved a test accuracy of 88%, a average F1 score of 89%, and an AUC of 0.931. This model performed better than the RF, but not much improvement from NN model 1. "
   ]
  },
  {
   "cell_type": "markdown",
   "id": "fb913042-0a4c-4218-8318-77bd496a2f16",
   "metadata": {},
   "source": [
    "##  NN MODEL 3\n",
    "For this NN model I will add 2 more layers, equaling several layers.\n",
    "\n",
    "**The batch size** is a hyperparameter of gradient descent that controls the number of training samples to work through before the model’s internal parameters are updated."
   ]
  },
  {
   "cell_type": "code",
   "execution_count": 251,
   "id": "55553e72-cb22-4964-9629-ad91bbfd1378",
   "metadata": {
    "scrolled": true,
    "tags": []
   },
   "outputs": [
    {
     "name": "stdout",
     "output_type": "stream",
     "text": [
      "Epoch 1/100\n",
      "175/175 [==============================] - 1s 8ms/step - loss: 2.1026 - categorical_accuracy: 0.2838 - val_loss: 1.5279 - val_categorical_accuracy: 0.4760\n",
      "Epoch 2/100\n",
      "175/175 [==============================] - 1s 7ms/step - loss: 1.6602 - categorical_accuracy: 0.4343 - val_loss: 1.1952 - val_categorical_accuracy: 0.5934\n",
      "Epoch 3/100\n",
      "175/175 [==============================] - 1s 7ms/step - loss: 1.4615 - categorical_accuracy: 0.5061 - val_loss: 1.0269 - val_categorical_accuracy: 0.6514\n",
      "Epoch 4/100\n",
      "175/175 [==============================] - 1s 7ms/step - loss: 1.3519 - categorical_accuracy: 0.5449 - val_loss: 0.9150 - val_categorical_accuracy: 0.7015\n",
      "Epoch 5/100\n",
      "175/175 [==============================] - 2s 9ms/step - loss: 1.2748 - categorical_accuracy: 0.5707 - val_loss: 0.8632 - val_categorical_accuracy: 0.7065\n",
      "Epoch 6/100\n",
      "175/175 [==============================] - 2s 9ms/step - loss: 1.2024 - categorical_accuracy: 0.5982 - val_loss: 0.7908 - val_categorical_accuracy: 0.7545\n",
      "Epoch 7/100\n",
      "175/175 [==============================] - 2s 9ms/step - loss: 1.1343 - categorical_accuracy: 0.6188 - val_loss: 0.7566 - val_categorical_accuracy: 0.7466\n",
      "Epoch 8/100\n",
      "175/175 [==============================] - 2s 9ms/step - loss: 1.0700 - categorical_accuracy: 0.6525 - val_loss: 0.7194 - val_categorical_accuracy: 0.7566\n",
      "Epoch 9/100\n",
      "175/175 [==============================] - 2s 9ms/step - loss: 1.0309 - categorical_accuracy: 0.6578 - val_loss: 0.7030 - val_categorical_accuracy: 0.7638\n",
      "Epoch 10/100\n",
      "175/175 [==============================] - 1s 8ms/step - loss: 1.0203 - categorical_accuracy: 0.6661 - val_loss: 0.6622 - val_categorical_accuracy: 0.7802\n",
      "Epoch 11/100\n",
      "175/175 [==============================] - 1s 7ms/step - loss: 0.9517 - categorical_accuracy: 0.6852 - val_loss: 0.6556 - val_categorical_accuracy: 0.7831\n",
      "Epoch 12/100\n",
      "175/175 [==============================] - 1s 7ms/step - loss: 0.9294 - categorical_accuracy: 0.6956 - val_loss: 0.6336 - val_categorical_accuracy: 0.7989\n",
      "Epoch 13/100\n",
      "175/175 [==============================] - 1s 7ms/step - loss: 0.9137 - categorical_accuracy: 0.7001 - val_loss: 0.6059 - val_categorical_accuracy: 0.8010\n",
      "Epoch 14/100\n",
      "175/175 [==============================] - 1s 7ms/step - loss: 0.8961 - categorical_accuracy: 0.7081 - val_loss: 0.5907 - val_categorical_accuracy: 0.7981\n",
      "Epoch 15/100\n",
      "175/175 [==============================] - 1s 7ms/step - loss: 0.8679 - categorical_accuracy: 0.7205 - val_loss: 0.5745 - val_categorical_accuracy: 0.8010\n",
      "Epoch 16/100\n",
      "175/175 [==============================] - 1s 7ms/step - loss: 0.8270 - categorical_accuracy: 0.7287 - val_loss: 0.5729 - val_categorical_accuracy: 0.8103\n",
      "Epoch 17/100\n",
      "175/175 [==============================] - 1s 7ms/step - loss: 0.8356 - categorical_accuracy: 0.7260 - val_loss: 0.5437 - val_categorical_accuracy: 0.8110\n",
      "Epoch 18/100\n",
      "175/175 [==============================] - 1s 7ms/step - loss: 0.8062 - categorical_accuracy: 0.7280 - val_loss: 0.5271 - val_categorical_accuracy: 0.8232\n",
      "Epoch 19/100\n",
      "175/175 [==============================] - 1s 7ms/step - loss: 0.7998 - categorical_accuracy: 0.7416 - val_loss: 0.5194 - val_categorical_accuracy: 0.8318\n",
      "Epoch 20/100\n",
      "175/175 [==============================] - 1s 7ms/step - loss: 0.7602 - categorical_accuracy: 0.7479 - val_loss: 0.5577 - val_categorical_accuracy: 0.8139\n",
      "Epoch 21/100\n",
      "175/175 [==============================] - 1s 7ms/step - loss: 0.7644 - categorical_accuracy: 0.7521 - val_loss: 0.5018 - val_categorical_accuracy: 0.8311\n",
      "Epoch 22/100\n",
      "175/175 [==============================] - 1s 7ms/step - loss: 0.7353 - categorical_accuracy: 0.7532 - val_loss: 0.4841 - val_categorical_accuracy: 0.8368\n",
      "Epoch 23/100\n",
      "175/175 [==============================] - 1s 7ms/step - loss: 0.7367 - categorical_accuracy: 0.7604 - val_loss: 0.4760 - val_categorical_accuracy: 0.8432\n",
      "Epoch 24/100\n",
      "175/175 [==============================] - 1s 7ms/step - loss: 0.7155 - categorical_accuracy: 0.7672 - val_loss: 0.4947 - val_categorical_accuracy: 0.8339\n",
      "Epoch 25/100\n",
      "175/175 [==============================] - 1s 6ms/step - loss: 0.7041 - categorical_accuracy: 0.7623 - val_loss: 0.4574 - val_categorical_accuracy: 0.8447\n",
      "Epoch 26/100\n",
      "175/175 [==============================] - 1s 6ms/step - loss: 0.7157 - categorical_accuracy: 0.7598 - val_loss: 0.4649 - val_categorical_accuracy: 0.8418\n",
      "Epoch 27/100\n",
      "175/175 [==============================] - 1s 7ms/step - loss: 0.7239 - categorical_accuracy: 0.7618 - val_loss: 0.4658 - val_categorical_accuracy: 0.8525\n",
      "Epoch 28/100\n",
      "175/175 [==============================] - 1s 6ms/step - loss: 0.6963 - categorical_accuracy: 0.7688 - val_loss: 0.4682 - val_categorical_accuracy: 0.8339\n",
      "Epoch 29/100\n",
      "175/175 [==============================] - 1s 7ms/step - loss: 0.6592 - categorical_accuracy: 0.7883 - val_loss: 0.4616 - val_categorical_accuracy: 0.8468\n",
      "Epoch 30/100\n",
      "175/175 [==============================] - 1s 7ms/step - loss: 0.6845 - categorical_accuracy: 0.7758 - val_loss: 0.4500 - val_categorical_accuracy: 0.8547\n",
      "Epoch 31/100\n",
      "175/175 [==============================] - 1s 6ms/step - loss: 0.6691 - categorical_accuracy: 0.7826 - val_loss: 0.4341 - val_categorical_accuracy: 0.8490\n",
      "Epoch 32/100\n",
      "175/175 [==============================] - 1s 7ms/step - loss: 0.6520 - categorical_accuracy: 0.7842 - val_loss: 0.4172 - val_categorical_accuracy: 0.8647\n",
      "Epoch 33/100\n",
      "175/175 [==============================] - 1s 7ms/step - loss: 0.6312 - categorical_accuracy: 0.7938 - val_loss: 0.4464 - val_categorical_accuracy: 0.8540\n",
      "Epoch 34/100\n",
      "175/175 [==============================] - 1s 7ms/step - loss: 0.6378 - categorical_accuracy: 0.7887 - val_loss: 0.4242 - val_categorical_accuracy: 0.8525\n",
      "Epoch 35/100\n",
      "175/175 [==============================] - 1s 7ms/step - loss: 0.6202 - categorical_accuracy: 0.7978 - val_loss: 0.4276 - val_categorical_accuracy: 0.8611\n",
      "Epoch 36/100\n",
      "175/175 [==============================] - 1s 7ms/step - loss: 0.6214 - categorical_accuracy: 0.7929 - val_loss: 0.4072 - val_categorical_accuracy: 0.8697\n",
      "Epoch 37/100\n",
      "175/175 [==============================] - 1s 7ms/step - loss: 0.6234 - categorical_accuracy: 0.8023 - val_loss: 0.4129 - val_categorical_accuracy: 0.8640\n",
      "Epoch 38/100\n",
      "175/175 [==============================] - 1s 7ms/step - loss: 0.6111 - categorical_accuracy: 0.8048 - val_loss: 0.4190 - val_categorical_accuracy: 0.8618\n",
      "Epoch 39/100\n",
      "175/175 [==============================] - 1s 7ms/step - loss: 0.5832 - categorical_accuracy: 0.8121 - val_loss: 0.4179 - val_categorical_accuracy: 0.8697\n",
      "Epoch 40/100\n",
      "175/175 [==============================] - 1s 7ms/step - loss: 0.6101 - categorical_accuracy: 0.7976 - val_loss: 0.4043 - val_categorical_accuracy: 0.8726\n",
      "Epoch 41/100\n",
      "175/175 [==============================] - 1s 7ms/step - loss: 0.6009 - categorical_accuracy: 0.8042 - val_loss: 0.4057 - val_categorical_accuracy: 0.8704\n",
      "Epoch 42/100\n",
      "175/175 [==============================] - 1s 7ms/step - loss: 0.5794 - categorical_accuracy: 0.8087 - val_loss: 0.4128 - val_categorical_accuracy: 0.8683\n",
      "Epoch 43/100\n",
      "175/175 [==============================] - 1s 8ms/step - loss: 0.5845 - categorical_accuracy: 0.8058 - val_loss: 0.4045 - val_categorical_accuracy: 0.8669\n",
      "Epoch 44/100\n",
      "175/175 [==============================] - 1s 8ms/step - loss: 0.5769 - categorical_accuracy: 0.8108 - val_loss: 0.4168 - val_categorical_accuracy: 0.8669\n",
      "Epoch 45/100\n",
      "175/175 [==============================] - 1s 8ms/step - loss: 0.5768 - categorical_accuracy: 0.8044 - val_loss: 0.4153 - val_categorical_accuracy: 0.8676\n",
      "Epoch 46/100\n",
      "175/175 [==============================] - 1s 8ms/step - loss: 0.5889 - categorical_accuracy: 0.8082 - val_loss: 0.3960 - val_categorical_accuracy: 0.8769\n",
      "Epoch 47/100\n",
      "175/175 [==============================] - 1s 7ms/step - loss: 0.5546 - categorical_accuracy: 0.8210 - val_loss: 0.3828 - val_categorical_accuracy: 0.8769\n",
      "Epoch 48/100\n",
      "175/175 [==============================] - 1s 7ms/step - loss: 0.5596 - categorical_accuracy: 0.8182 - val_loss: 0.3695 - val_categorical_accuracy: 0.8790\n",
      "Epoch 49/100\n",
      "175/175 [==============================] - 1s 7ms/step - loss: 0.5515 - categorical_accuracy: 0.8193 - val_loss: 0.3672 - val_categorical_accuracy: 0.8848\n",
      "Epoch 50/100\n",
      "175/175 [==============================] - 1s 7ms/step - loss: 0.5549 - categorical_accuracy: 0.8169 - val_loss: 0.3787 - val_categorical_accuracy: 0.8719\n",
      "Epoch 51/100\n",
      "175/175 [==============================] - 1s 7ms/step - loss: 0.5614 - categorical_accuracy: 0.8123 - val_loss: 0.3903 - val_categorical_accuracy: 0.8790\n",
      "Epoch 52/100\n",
      "175/175 [==============================] - 1s 7ms/step - loss: 0.5477 - categorical_accuracy: 0.8141 - val_loss: 0.3612 - val_categorical_accuracy: 0.8890\n",
      "Epoch 53/100\n",
      "175/175 [==============================] - 1s 7ms/step - loss: 0.5336 - categorical_accuracy: 0.8268 - val_loss: 0.3655 - val_categorical_accuracy: 0.8848\n",
      "Epoch 54/100\n",
      "175/175 [==============================] - 1s 7ms/step - loss: 0.5314 - categorical_accuracy: 0.8196 - val_loss: 0.3592 - val_categorical_accuracy: 0.8840\n",
      "Epoch 55/100\n",
      "175/175 [==============================] - 1s 7ms/step - loss: 0.5236 - categorical_accuracy: 0.8336 - val_loss: 0.3703 - val_categorical_accuracy: 0.8797\n",
      "Epoch 56/100\n",
      "175/175 [==============================] - 1s 8ms/step - loss: 0.5678 - categorical_accuracy: 0.8173 - val_loss: 0.3650 - val_categorical_accuracy: 0.8783\n",
      "Epoch 57/100\n",
      "175/175 [==============================] - 2s 9ms/step - loss: 0.5467 - categorical_accuracy: 0.8259 - val_loss: 0.3892 - val_categorical_accuracy: 0.8812\n",
      "Epoch 58/100\n",
      "175/175 [==============================] - 1s 8ms/step - loss: 0.5419 - categorical_accuracy: 0.8196 - val_loss: 0.3776 - val_categorical_accuracy: 0.8762\n",
      "Epoch 59/100\n",
      "175/175 [==============================] - 1s 8ms/step - loss: 0.5122 - categorical_accuracy: 0.8334 - val_loss: 0.3633 - val_categorical_accuracy: 0.8955\n",
      "Epoch 60/100\n",
      "175/175 [==============================] - 2s 9ms/step - loss: 0.5144 - categorical_accuracy: 0.8370 - val_loss: 0.3883 - val_categorical_accuracy: 0.8805\n",
      "Epoch 61/100\n",
      "175/175 [==============================] - 2s 9ms/step - loss: 0.4930 - categorical_accuracy: 0.8346 - val_loss: 0.3825 - val_categorical_accuracy: 0.8826\n",
      "Epoch 62/100\n",
      "175/175 [==============================] - 1s 8ms/step - loss: 0.5212 - categorical_accuracy: 0.8277 - val_loss: 0.3635 - val_categorical_accuracy: 0.8819\n",
      "Epoch 63/100\n",
      "175/175 [==============================] - 1s 7ms/step - loss: 0.5037 - categorical_accuracy: 0.8393 - val_loss: 0.3405 - val_categorical_accuracy: 0.8933\n",
      "Epoch 64/100\n",
      "175/175 [==============================] - 1s 7ms/step - loss: 0.4992 - categorical_accuracy: 0.8346 - val_loss: 0.3588 - val_categorical_accuracy: 0.8783\n",
      "Epoch 65/100\n",
      "175/175 [==============================] - 1s 7ms/step - loss: 0.5170 - categorical_accuracy: 0.8287 - val_loss: 0.3417 - val_categorical_accuracy: 0.8826\n",
      "Epoch 66/100\n",
      "175/175 [==============================] - 1s 8ms/step - loss: 0.4953 - categorical_accuracy: 0.8346 - val_loss: 0.3356 - val_categorical_accuracy: 0.8991\n",
      "Epoch 67/100\n",
      "175/175 [==============================] - 1s 8ms/step - loss: 0.4952 - categorical_accuracy: 0.8397 - val_loss: 0.3602 - val_categorical_accuracy: 0.8883\n",
      "Epoch 68/100\n",
      "175/175 [==============================] - 1s 8ms/step - loss: 0.5073 - categorical_accuracy: 0.8271 - val_loss: 0.3484 - val_categorical_accuracy: 0.8933\n",
      "Epoch 69/100\n",
      "175/175 [==============================] - 2s 9ms/step - loss: 0.4842 - categorical_accuracy: 0.8380 - val_loss: 0.3334 - val_categorical_accuracy: 0.8948\n",
      "Epoch 70/100\n",
      "175/175 [==============================] - 1s 8ms/step - loss: 0.5002 - categorical_accuracy: 0.8332 - val_loss: 0.3364 - val_categorical_accuracy: 0.8912\n",
      "Epoch 71/100\n",
      "175/175 [==============================] - 2s 10ms/step - loss: 0.4754 - categorical_accuracy: 0.8382 - val_loss: 0.3496 - val_categorical_accuracy: 0.8926\n",
      "Epoch 72/100\n",
      "175/175 [==============================] - 2s 12ms/step - loss: 0.4808 - categorical_accuracy: 0.8382 - val_loss: 0.3358 - val_categorical_accuracy: 0.8919\n",
      "Epoch 73/100\n",
      "175/175 [==============================] - 2s 12ms/step - loss: 0.5096 - categorical_accuracy: 0.8373 - val_loss: 0.3446 - val_categorical_accuracy: 0.8812\n",
      "Epoch 74/100\n",
      "175/175 [==============================] - 2s 12ms/step - loss: 0.4909 - categorical_accuracy: 0.8377 - val_loss: 0.3626 - val_categorical_accuracy: 0.8805\n",
      "Epoch 75/100\n",
      "175/175 [==============================] - 2s 9ms/step - loss: 0.4986 - categorical_accuracy: 0.8277 - val_loss: 0.3452 - val_categorical_accuracy: 0.8926\n",
      "Epoch 76/100\n",
      "175/175 [==============================] - 1s 8ms/step - loss: 0.4817 - categorical_accuracy: 0.8414 - val_loss: 0.3554 - val_categorical_accuracy: 0.8883\n",
      "Epoch 77/100\n",
      "175/175 [==============================] - 1s 7ms/step - loss: 0.4613 - categorical_accuracy: 0.8529 - val_loss: 0.3364 - val_categorical_accuracy: 0.8933\n",
      "Epoch 78/100\n",
      "175/175 [==============================] - 2s 9ms/step - loss: 0.4809 - categorical_accuracy: 0.8418 - val_loss: 0.3428 - val_categorical_accuracy: 0.8926\n",
      "Epoch 79/100\n",
      "175/175 [==============================] - 2s 9ms/step - loss: 0.4587 - categorical_accuracy: 0.8500 - val_loss: 0.3487 - val_categorical_accuracy: 0.8919\n",
      "Epoch 80/100\n",
      "175/175 [==============================] - 2s 9ms/step - loss: 0.4687 - categorical_accuracy: 0.8452 - val_loss: 0.3465 - val_categorical_accuracy: 0.8926\n",
      "Epoch 81/100\n",
      "175/175 [==============================] - 1s 7ms/step - loss: 0.4590 - categorical_accuracy: 0.8524 - val_loss: 0.3431 - val_categorical_accuracy: 0.8869\n",
      "Epoch 82/100\n",
      "175/175 [==============================] - 1s 8ms/step - loss: 0.4643 - categorical_accuracy: 0.8486 - val_loss: 0.3504 - val_categorical_accuracy: 0.8819\n",
      "Epoch 83/100\n",
      "175/175 [==============================] - 2s 10ms/step - loss: 0.4866 - categorical_accuracy: 0.8363 - val_loss: 0.3418 - val_categorical_accuracy: 0.8905\n",
      "Epoch 84/100\n",
      "175/175 [==============================] - 1s 8ms/step - loss: 0.4800 - categorical_accuracy: 0.8454 - val_loss: 0.3424 - val_categorical_accuracy: 0.8933\n",
      "Epoch 85/100\n",
      "175/175 [==============================] - 1s 7ms/step - loss: 0.4543 - categorical_accuracy: 0.8534 - val_loss: 0.3422 - val_categorical_accuracy: 0.8933\n",
      "Epoch 86/100\n",
      "175/175 [==============================] - 1s 7ms/step - loss: 0.4471 - categorical_accuracy: 0.8561 - val_loss: 0.3371 - val_categorical_accuracy: 0.8883\n",
      "Epoch 87/100\n",
      "175/175 [==============================] - 1s 7ms/step - loss: 0.4488 - categorical_accuracy: 0.8565 - val_loss: 0.3514 - val_categorical_accuracy: 0.8898\n",
      "Epoch 88/100\n",
      "175/175 [==============================] - 1s 8ms/step - loss: 0.4514 - categorical_accuracy: 0.8497 - val_loss: 0.3421 - val_categorical_accuracy: 0.8812\n",
      "Epoch 89/100\n",
      "175/175 [==============================] - 1s 7ms/step - loss: 0.4392 - categorical_accuracy: 0.8561 - val_loss: 0.3309 - val_categorical_accuracy: 0.8905\n",
      "Epoch 90/100\n",
      "175/175 [==============================] - 1s 7ms/step - loss: 0.4329 - categorical_accuracy: 0.8525 - val_loss: 0.3432 - val_categorical_accuracy: 0.8840\n",
      "Epoch 91/100\n",
      "175/175 [==============================] - 1s 8ms/step - loss: 0.4251 - categorical_accuracy: 0.8584 - val_loss: 0.3393 - val_categorical_accuracy: 0.8819\n",
      "Epoch 92/100\n",
      "175/175 [==============================] - 2s 9ms/step - loss: 0.4532 - categorical_accuracy: 0.8533 - val_loss: 0.3301 - val_categorical_accuracy: 0.8926\n",
      "Epoch 93/100\n",
      "175/175 [==============================] - 2s 11ms/step - loss: 0.4341 - categorical_accuracy: 0.8568 - val_loss: 0.3367 - val_categorical_accuracy: 0.8876\n",
      "Epoch 94/100\n",
      "175/175 [==============================] - 2s 10ms/step - loss: 0.4498 - categorical_accuracy: 0.8547 - val_loss: 0.3372 - val_categorical_accuracy: 0.8955\n",
      "Epoch 95/100\n",
      "175/175 [==============================] - 2s 9ms/step - loss: 0.4359 - categorical_accuracy: 0.8586 - val_loss: 0.3236 - val_categorical_accuracy: 0.8962\n",
      "Epoch 96/100\n",
      "175/175 [==============================] - 2s 9ms/step - loss: 0.4393 - categorical_accuracy: 0.8565 - val_loss: 0.3333 - val_categorical_accuracy: 0.8941\n",
      "Epoch 97/100\n",
      "175/175 [==============================] - 2s 9ms/step - loss: 0.4235 - categorical_accuracy: 0.8618 - val_loss: 0.3316 - val_categorical_accuracy: 0.8912\n",
      "Epoch 98/100\n",
      "175/175 [==============================] - 2s 9ms/step - loss: 0.4342 - categorical_accuracy: 0.8565 - val_loss: 0.3279 - val_categorical_accuracy: 0.8919\n",
      "Epoch 99/100\n",
      "175/175 [==============================] - 1s 8ms/step - loss: 0.4434 - categorical_accuracy: 0.8520 - val_loss: 0.3362 - val_categorical_accuracy: 0.8998\n",
      "Epoch 100/100\n",
      "175/175 [==============================] - 1s 8ms/step - loss: 0.4324 - categorical_accuracy: 0.8579 - val_loss: 0.3299 - val_categorical_accuracy: 0.8933\n"
     ]
    }
   ],
   "source": [
    "#step1\n",
    "#declaring the outerlayer shape\n",
    "\n",
    "num_labels = y_remainder.shape[1]\n",
    "\n",
    "#declaring the input layer shape\n",
    "input_shape= (40,)\n",
    "\n",
    "# Create a new sequential model\n",
    "nn_model3 = keras.Sequential([layers.InputLayer(input_shape = input_shape)])\n",
    "\n",
    "# Declare the hidden layers\n",
    "nn_model3.add(layers.Dense(80, activation=\"relu\"))\n",
    "nn_model3.add(layers.Dropout(0.2))\n",
    "nn_model3.add(layers.BatchNormalization()) \n",
    "\n",
    "nn_model3.add(layers.Dense(160, activation=\"relu\"))\n",
    "nn_model3.add(layers.Dropout(0.2))\n",
    "nn_model3.add(layers.BatchNormalization())\n",
    "\n",
    "nn_model3.add(layers.Dense(320, activation=\"relu\"))\n",
    "nn_model3.add(layers.Dropout(0.2))\n",
    "nn_model3.add(layers.BatchNormalization())\n",
    "\n",
    "nn_model3.add(layers.Dense(320, activation=\"relu\"))\n",
    "nn_model3.add(layers.Dropout(0.2))\n",
    "nn_model3.add(layers.BatchNormalization())\n",
    "\n",
    "nn_model3.add(layers.Dense(160, activation=\"relu\"))\n",
    "nn_model3.add(layers.Dropout(0.2))\n",
    "nn_model3.add(layers.BatchNormalization())\n",
    "\n",
    "nn_model3.add(layers.Dense(80, activation=\"relu\")) \n",
    "nn_model3.add(layers.Dropout(0.2))\n",
    "\n",
    "# Declare the output layer\n",
    "nn_model3.add(layers.Dense(num_labels, activation=\"softmax\"))\n",
    "\n",
    "nn_model3.compile(\n",
    "                # Optimizer\n",
    "                optimizer=keras.optimizers.Adam(),  \n",
    "                # Loss function to minimize\n",
    "                loss=keras.losses.CategoricalCrossentropy(),\n",
    "                # Metric used to evaluate model\n",
    "                metrics=[keras.metrics.CategoricalAccuracy()]\n",
    "    )\n",
    "\n",
    "num_epochs = 100\n",
    "num_batch_size = 32\n",
    "\n",
    "history3 = nn_model3.fit(X_remainder_ss, y_remainder, batch_size=num_batch_size,\n",
    "          epochs=num_epochs, validation_split=0.2,\n",
    "          validation_data=(x_test_ss, y_test), verbose=1)"
   ]
  },
  {
   "cell_type": "code",
   "execution_count": 219,
   "id": "63c5f1d7-a3cd-4cd7-8d09-06b6e471e2c0",
   "metadata": {},
   "outputs": [
    {
     "name": "stdout",
     "output_type": "stream",
     "text": [
      "Model: \"sequential_17\"\n",
      "_________________________________________________________________\n",
      "Layer (type)                 Output Shape              Param #   \n",
      "=================================================================\n",
      "dense_91 (Dense)             (None, 80)                3280      \n",
      "_________________________________________________________________\n",
      "dropout_25 (Dropout)         (None, 80)                0         \n",
      "_________________________________________________________________\n",
      "batch_normalization_19 (Batc (None, 80)                320       \n",
      "_________________________________________________________________\n",
      "dense_92 (Dense)             (None, 160)               12960     \n",
      "_________________________________________________________________\n",
      "dropout_26 (Dropout)         (None, 160)               0         \n",
      "_________________________________________________________________\n",
      "batch_normalization_20 (Batc (None, 160)               640       \n",
      "_________________________________________________________________\n",
      "dense_93 (Dense)             (None, 320)               51520     \n",
      "_________________________________________________________________\n",
      "dropout_27 (Dropout)         (None, 320)               0         \n",
      "_________________________________________________________________\n",
      "batch_normalization_21 (Batc (None, 320)               1280      \n",
      "_________________________________________________________________\n",
      "dense_94 (Dense)             (None, 160)               51360     \n",
      "_________________________________________________________________\n",
      "dropout_28 (Dropout)         (None, 160)               0         \n",
      "_________________________________________________________________\n",
      "batch_normalization_22 (Batc (None, 160)               640       \n",
      "_________________________________________________________________\n",
      "dense_95 (Dense)             (None, 80)                12880     \n",
      "_________________________________________________________________\n",
      "dropout_29 (Dropout)         (None, 80)                0         \n",
      "_________________________________________________________________\n",
      "dense_96 (Dense)             (None, 10)                810       \n",
      "=================================================================\n",
      "Total params: 135,690\n",
      "Trainable params: 134,250\n",
      "Non-trainable params: 1,440\n",
      "_________________________________________________________________\n"
     ]
    }
   ],
   "source": [
    "nn_model3.summary()"
   ]
  },
  {
   "cell_type": "code",
   "execution_count": 260,
   "id": "bc744a3a-5642-4277-9b47-80c2639c878f",
   "metadata": {},
   "outputs": [
    {
     "name": "stdout",
     "output_type": "stream",
     "text": [
      "Training Accuracy: 95.81%\n",
      "Testing Accuracy: 88.49%\n"
     ]
    }
   ],
   "source": [
    "# Evaluating the model on the training and testing set\n",
    "score = nn_model3.evaluate(X_remainder_ss, y_remainder, verbose=0)\n",
    "print(\"Training Accuracy: {0:.2%}\".format(score[1]))\n",
    "\n",
    "score = nn_model3.evaluate(X_test_ss, y_test, verbose=0)\n",
    "print(\"Testing Accuracy: {0:.2%}\".format(score[1]))"
   ]
  },
  {
   "cell_type": "markdown",
   "id": "d70bbf64-b3c0-43f6-8711-e82e0bf0e4f7",
   "metadata": {},
   "source": [
    "Here we see this model got a Training accuracy of 95.81% and a Testing accuracy of 88.49%. The training and testing scores slightly moved closer to together, which tells me the model is improving."
   ]
  },
  {
   "cell_type": "code",
   "execution_count": 261,
   "id": "a78691fa-6e55-400b-a881-2fcb3ed75688",
   "metadata": {},
   "outputs": [
    {
     "data": {
      "image/png": "[encoded data removed]",
      "text/plain": [
       "<Figure size 432x288 with 1 Axes>"
      ]
     },
     "metadata": {
      "needs_background": "light"
     },
     "output_type": "display_data"
    }
   ],
   "source": [
    "#showing the train loss and validation loss\n",
    "plt.plot(history3.history['loss'])\n",
    "plt.plot(history3.history['val_loss'])\n",
    "plt.title('NN Model #3 Loss')\n",
    "plt.ylabel('Loss')\n",
    "plt.xlabel('Epoch')\n",
    "plt.legend(['Train', 'Validation'])\n",
    "plt.show()"
   ]
  },
  {
   "cell_type": "markdown",
   "id": "0ff1f9c7-ae01-414e-a572-66d56c69b735",
   "metadata": {},
   "source": [
    "As with NN2, the loss of both the validation and train sets have a decreasing trend."
   ]
  },
  {
   "cell_type": "code",
   "execution_count": 246,
   "id": "76920ae1-d6bf-403f-8aa1-7b3ec94336bc",
   "metadata": {},
   "outputs": [
    {
     "data": {
      "image/png": "[encoded data removed]",
      "text/plain": [
       "<Figure size 432x288 with 1 Axes>"
      ]
     },
     "metadata": {
      "needs_background": "light"
     },
     "output_type": "display_data"
    }
   ],
   "source": [
    "#showing the train accuracy and validation accuracy\n",
    "plt.plot(history3.history['categorical_accuracy'])\n",
    "plt.plot(history3.history['val_categorical_accuracy'])\n",
    "plt.title('NN Model #3 Accuracy')\n",
    "plt.ylabel('Loss')\n",
    "plt.xlabel('Epoch')\n",
    "plt.legend(['Train', 'Validation'])\n",
    "plt.show()"
   ]
  },
  {
   "cell_type": "markdown",
   "id": "3b23bfdc-9c86-415f-a50e-2bccd0bcfde4",
   "metadata": {},
   "source": [
    "Here we see something a bit different than the other NN models. The validation and train sets start to follow each other relatively closely. The over fitting seems to have gone away."
   ]
  },
  {
   "cell_type": "markdown",
   "id": "7ebbd9a4-62c8-4e88-8c42-5ddc1bccede2",
   "metadata": {},
   "source": [
    "### Predictions and Evaluation"
   ]
  },
  {
   "cell_type": "code",
   "execution_count": 247,
   "id": "8807a259-507a-43e8-bdac-f237d34af910",
   "metadata": {},
   "outputs": [],
   "source": [
    "#getting the predictions\n",
    "test_pred_3 = nn_model3.predict(X_test_ss).round()\n",
    "train_pred_3 = nn_model3.predict(X_remainder_ss).round()\n",
    "\n",
    "y_test_3 = (test_pred_3 > 0.5).astype(int)\n",
    "y_train_3 = (train_pred_3 > 0.5).astype(int)"
   ]
  },
  {
   "cell_type": "code",
   "execution_count": 248,
   "id": "a763cd36-60e7-470c-ab3c-69e345f01305",
   "metadata": {},
   "outputs": [
    {
     "name": "stdout",
     "output_type": "stream",
     "text": [
      "Classification Report NN Model 3: \n",
      "=======================================================\n",
      "\n",
      "              precision    recall  f1-score   support\n",
      "\n",
      "           0       0.97      0.94      0.95       194\n",
      "           1       0.97      0.89      0.93        79\n",
      "           2       0.76      0.85      0.80       189\n",
      "           3       0.89      0.73      0.80       203\n",
      "           4       0.95      0.90      0.92       234\n",
      "           5       0.99      0.91      0.95       199\n",
      "           6       0.68      0.84      0.75        56\n",
      "           7       0.94      0.97      0.95       183\n",
      "           8       0.96      0.93      0.94       191\n",
      "           9       0.85      0.77      0.81       219\n",
      "\n",
      "   micro avg       0.90      0.87      0.89      1747\n",
      "   macro avg       0.90      0.87      0.88      1747\n",
      "weighted avg       0.91      0.87      0.89      1747\n",
      " samples avg       0.86      0.87      0.87      1747\n",
      "\n"
     ]
    }
   ],
   "source": [
    "#classification report for f1, \n",
    "\n",
    "print_line = \"\\n=======================================================\\n\"\n",
    "\n",
    "print(\"Classification Report NN Model 3:\", print_line)\n",
    "\n",
    "report_initial = classification_report(y_test, y_test_3)\n",
    "print(report_initial)"
   ]
  },
  {
   "cell_type": "markdown",
   "id": "f2c7c26b-b809-4932-a2a9-c18f38db3d03",
   "metadata": {},
   "source": [
    "In comparison with the previous NN models: All the scores stayed relatively the same. I have more confidence in this models scores than the others because there wasn't as much over fitting on the training data."
   ]
  },
  {
   "cell_type": "markdown",
   "id": "cd1d24a9-35c5-4021-864c-435ba08e2e3a",
   "metadata": {},
   "source": [
    "**AUC-ROC Scores**"
   ]
  },
  {
   "cell_type": "code",
   "execution_count": 262,
   "id": "7f2dfab2-ee8f-4d8d-85e3-0e677d427bf9",
   "metadata": {},
   "outputs": [
    {
     "name": "stdout",
     "output_type": "stream",
     "text": [
      "AUC-ROC Scores NN Model 3: \n",
      "=======================================================\n",
      "\n",
      "AUC on train set: 0.9727900705089222\n",
      "AUC on test set: 0.930303647383756\n"
     ]
    }
   ],
   "source": [
    "print_line = \"\\n=======================================================\\n\"\n",
    "\n",
    "print(\"AUC-ROC Scores NN Model 3:\", print_line)\n",
    "\n",
    "# Score (AUC)\n",
    "multi_test_3 = roc_auc_score(y_test, y_test_3, multi_class='ovo', average='weighted')\n",
    "multi_train_3 = roc_auc_score(y_remainder, y_train_3, multi_class='ovo', average='weighted')\n",
    "print(f'AUC on train set: {multi_train_3}')\n",
    "print(f'AUC on test set: {multi_test_3}')"
   ]
  },
  {
   "cell_type": "markdown",
   "id": "37a2d160-4fbb-404a-8777-928384220394",
   "metadata": {},
   "source": [
    "NN model 3 achieved a test accuracy of 88%, a average F1 score of 89%, and an AUC of 0.930. This model performed better than the previous NN models and the RF.\n",
    "\n",
    "This still needs a lot of tweaking. The next steps here would be to do some more parameter tuning to increase accuracy, and AUC-ROC scores."
   ]
  },
  {
   "cell_type": "markdown",
   "id": "2d0f0cff-4b72-4a02-a4a9-723f92941345",
   "metadata": {},
   "source": [
    "### Saving model"
   ]
  },
  {
   "cell_type": "code",
   "execution_count": 374,
   "id": "9724b339-6290-40b3-9ad3-823220d0b72c",
   "metadata": {},
   "outputs": [
    {
     "name": "stdout",
     "output_type": "stream",
     "text": [
      "INFO:tensorflow:Assets written to: models/nn3/assets\n"
     ]
    }
   ],
   "source": [
    "nn_model3.save('models/nn3')"
   ]
  },
  {
   "cell_type": "markdown",
   "id": "7704773a-6993-4509-93f9-7b49cbcb5778",
   "metadata": {},
   "source": [
    "# Model Conclusions\n",
    "Overall, I found that optimizing this Neural Networks myself was very difficult. Due to the random nature of neural networks, each training run gave different results, and it was challenging to find ways to improve the performance of the network and be confident that changes weren't simply due to random chance.\n",
    "\n",
    "The Random Forest Classifier usually works quite well for classification tasks. This time though, a RF was not the best model to use for audio classification. It simply overfit the training data right away.\n",
    "\n",
    "The Neural Network models steadily increased with tuning the hyper-parameters. This model could potentially increase in over all performance by more fine tuning of the hyperparameters.\n",
    "\n",
    "\n",
    "|Model | Training Score | Testing Score | ROC-AUC Test|\n",
    "|:----:|:------------:|:---------------:|:-----------:|\n",
    "| RF   |     99%      |     64%         |    0.821    |\n",
    "| NN 1 |     97.78%   |     89.47%      |    0.941    |\n",
    "| NN 2 |     96.54%   |     88.44%      |    0.931    |\n",
    "| NN 3 |     95.81%   |     88.49%      |    0.930    |\n"
   ]
  },
  {
   "cell_type": "code",
   "execution_count": 268,
   "id": "0fbf5cd4-401c-4f04-a4b2-26495092e02d",
   "metadata": {},
   "outputs": [
    {
     "data": {
      "image/png": "[encoded data removed]",
      "text/plain": [
       "<Figure size 432x288 with 1 Axes>"
      ]
     },
     "metadata": {
      "needs_background": "light"
     },
     "output_type": "display_data"
    }
   ],
   "source": [
    "#showing the accuracy scores of each model\n",
    "plt.plot(history.history['categorical_accuracy'])\n",
    "plt.plot(history.history['val_categorical_accuracy'])\n",
    "plt.plot(history3.history['categorical_accuracy'])\n",
    "plt.plot(history3.history['val_categorical_accuracy'])\n",
    "plt.title('Neural Network Accuracy Scores', size=20)\n",
    "plt.ylabel('Accuracy', size=14)\n",
    "plt.xlabel('Epoch', size=14)\n",
    "plt.legend(['Train1', 'Validation1', 'Train3', 'Validation3'])\n",
    "plt.show()"
   ]
  },
  {
   "cell_type": "markdown",
   "id": "68b843cd-0320-4304-bc14-8a493d68f2f6",
   "metadata": {},
   "source": [
    "**NEXT STEPS**\n",
    "\n",
    "First I would like to build a model and on each k fold with the fold folder of audio samples. So that each k-fold gets a different sample of fold folders. As with how the people at [Urban Sound](https://urbansounddataset.weebly.com/urbansound8k.html) have describe how to test and train with this data.\n",
    "Secondly I will build and train a CNN model, going through the same kind of iterative process as the above NN, on the spectrogram images, and potentially a RNN."
   ]
  }
 ],
 "metadata": {
  "kernelspec": {
   "display_name": "deeplearning",
   "language": "python",
   "name": "deeplearning"
  },
  "language_info": {
   "codemirror_mode": {
    "name": "ipython",
    "version": 3
   },
   "file_extension": ".py",
   "mimetype": "text/x-python",
   "name": "python",
   "nbconvert_exporter": "python",
   "pygments_lexer": "ipython3",
   "version": "3.8.2"
  },
  "toc-autonumbering": false,
  "toc-showmarkdowntxt": false
 },
 "nbformat": 4,
 "nbformat_minor": 5
}
